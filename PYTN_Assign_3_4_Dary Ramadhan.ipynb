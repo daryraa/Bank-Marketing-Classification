{
 "cells": [
  {
   "cell_type": "markdown",
   "id": "5ed2f503",
   "metadata": {},
   "source": [
    "# Import Library"
   ]
  },
  {
   "cell_type": "code",
   "execution_count": 1,
   "id": "ad1647b2",
   "metadata": {},
   "outputs": [],
   "source": [
    "import numpy as np\n",
    "import pandas as pd\n",
    "import matplotlib.pyplot as plt\n",
    "import seaborn as sns\n",
    "from sklearn.model_selection import train_test_split\n",
    "from sklearn.linear_model import LogisticRegression\n",
    "from sklearn.metrics import accuracy_score\n",
    "import warnings\n",
    "warnings.filterwarnings('ignore')\n",
    "from sklearn import preprocessing\n",
    "from sklearn.metrics import confusion_matrix, classification_report\n",
    "from sklearn.neighbors import KNeighborsClassifier\n",
    "from sklearn.svm import SVC\n",
    "from sklearn.tree import DecisionTreeClassifier\n",
    "import sklearn.tree as tree\n",
    "import pydotplus\n",
    "import graphviz\n",
    "from sklearn.ensemble import RandomForestClassifier\n",
    "from sklearn.naive_bayes import MultinomialNB\n",
    "from sklearn.naive_bayes import GaussianNB\n",
    "from sklearn.metrics import confusion_matrix, accuracy_score, precision_score, recall_score, f1_score"
   ]
  },
  {
   "cell_type": "markdown",
   "id": "c349d050",
   "metadata": {},
   "source": [
    "# Data Loading"
   ]
  },
  {
   "cell_type": "code",
   "execution_count": 2,
   "id": "45d73e1e",
   "metadata": {},
   "outputs": [],
   "source": [
    "bf = pd.read_csv('dataset/bank-full.csv', sep=';')\n",
    "bfless = pd.read_csv('dataset/bank.csv', sep=';')\n",
    "bad = pd.read_csv('dataset/bank-additional-full.csv', sep=';')\n",
    "badless = pd.read_csv('dataset/bank-additional.csv', sep=';')"
   ]
  },
  {
   "cell_type": "code",
   "execution_count": 3,
   "id": "0e6e87d3",
   "metadata": {},
   "outputs": [
    {
     "data": {
      "text/html": [
       "<div>\n",
       "<style scoped>\n",
       "    .dataframe tbody tr th:only-of-type {\n",
       "        vertical-align: middle;\n",
       "    }\n",
       "\n",
       "    .dataframe tbody tr th {\n",
       "        vertical-align: top;\n",
       "    }\n",
       "\n",
       "    .dataframe thead th {\n",
       "        text-align: right;\n",
       "    }\n",
       "</style>\n",
       "<table border=\"1\" class=\"dataframe\">\n",
       "  <thead>\n",
       "    <tr style=\"text-align: right;\">\n",
       "      <th></th>\n",
       "      <th>age</th>\n",
       "      <th>job</th>\n",
       "      <th>marital</th>\n",
       "      <th>education</th>\n",
       "      <th>default</th>\n",
       "      <th>balance</th>\n",
       "      <th>housing</th>\n",
       "      <th>loan</th>\n",
       "      <th>contact</th>\n",
       "      <th>day</th>\n",
       "      <th>month</th>\n",
       "      <th>duration</th>\n",
       "      <th>campaign</th>\n",
       "      <th>pdays</th>\n",
       "      <th>previous</th>\n",
       "      <th>poutcome</th>\n",
       "      <th>y</th>\n",
       "    </tr>\n",
       "  </thead>\n",
       "  <tbody>\n",
       "    <tr>\n",
       "      <th>0</th>\n",
       "      <td>58</td>\n",
       "      <td>management</td>\n",
       "      <td>married</td>\n",
       "      <td>tertiary</td>\n",
       "      <td>no</td>\n",
       "      <td>2143</td>\n",
       "      <td>yes</td>\n",
       "      <td>no</td>\n",
       "      <td>unknown</td>\n",
       "      <td>5</td>\n",
       "      <td>may</td>\n",
       "      <td>261</td>\n",
       "      <td>1</td>\n",
       "      <td>-1</td>\n",
       "      <td>0</td>\n",
       "      <td>unknown</td>\n",
       "      <td>no</td>\n",
       "    </tr>\n",
       "    <tr>\n",
       "      <th>1</th>\n",
       "      <td>44</td>\n",
       "      <td>technician</td>\n",
       "      <td>single</td>\n",
       "      <td>secondary</td>\n",
       "      <td>no</td>\n",
       "      <td>29</td>\n",
       "      <td>yes</td>\n",
       "      <td>no</td>\n",
       "      <td>unknown</td>\n",
       "      <td>5</td>\n",
       "      <td>may</td>\n",
       "      <td>151</td>\n",
       "      <td>1</td>\n",
       "      <td>-1</td>\n",
       "      <td>0</td>\n",
       "      <td>unknown</td>\n",
       "      <td>no</td>\n",
       "    </tr>\n",
       "    <tr>\n",
       "      <th>2</th>\n",
       "      <td>33</td>\n",
       "      <td>entrepreneur</td>\n",
       "      <td>married</td>\n",
       "      <td>secondary</td>\n",
       "      <td>no</td>\n",
       "      <td>2</td>\n",
       "      <td>yes</td>\n",
       "      <td>yes</td>\n",
       "      <td>unknown</td>\n",
       "      <td>5</td>\n",
       "      <td>may</td>\n",
       "      <td>76</td>\n",
       "      <td>1</td>\n",
       "      <td>-1</td>\n",
       "      <td>0</td>\n",
       "      <td>unknown</td>\n",
       "      <td>no</td>\n",
       "    </tr>\n",
       "  </tbody>\n",
       "</table>\n",
       "</div>"
      ],
      "text/plain": [
       "   age           job  marital  education default  balance housing loan  \\\n",
       "0   58    management  married   tertiary      no     2143     yes   no   \n",
       "1   44    technician   single  secondary      no       29     yes   no   \n",
       "2   33  entrepreneur  married  secondary      no        2     yes  yes   \n",
       "\n",
       "   contact  day month  duration  campaign  pdays  previous poutcome   y  \n",
       "0  unknown    5   may       261         1     -1         0  unknown  no  \n",
       "1  unknown    5   may       151         1     -1         0  unknown  no  \n",
       "2  unknown    5   may        76         1     -1         0  unknown  no  "
      ]
     },
     "execution_count": 3,
     "metadata": {},
     "output_type": "execute_result"
    }
   ],
   "source": [
    "bf.head(3)"
   ]
  },
  {
   "cell_type": "code",
   "execution_count": 4,
   "id": "ddff5514",
   "metadata": {},
   "outputs": [
    {
     "data": {
      "text/html": [
       "<div>\n",
       "<style scoped>\n",
       "    .dataframe tbody tr th:only-of-type {\n",
       "        vertical-align: middle;\n",
       "    }\n",
       "\n",
       "    .dataframe tbody tr th {\n",
       "        vertical-align: top;\n",
       "    }\n",
       "\n",
       "    .dataframe thead th {\n",
       "        text-align: right;\n",
       "    }\n",
       "</style>\n",
       "<table border=\"1\" class=\"dataframe\">\n",
       "  <thead>\n",
       "    <tr style=\"text-align: right;\">\n",
       "      <th></th>\n",
       "      <th>age</th>\n",
       "      <th>job</th>\n",
       "      <th>marital</th>\n",
       "      <th>education</th>\n",
       "      <th>default</th>\n",
       "      <th>balance</th>\n",
       "      <th>housing</th>\n",
       "      <th>loan</th>\n",
       "      <th>contact</th>\n",
       "      <th>day</th>\n",
       "      <th>month</th>\n",
       "      <th>duration</th>\n",
       "      <th>campaign</th>\n",
       "      <th>pdays</th>\n",
       "      <th>previous</th>\n",
       "      <th>poutcome</th>\n",
       "      <th>y</th>\n",
       "    </tr>\n",
       "  </thead>\n",
       "  <tbody>\n",
       "    <tr>\n",
       "      <th>0</th>\n",
       "      <td>30</td>\n",
       "      <td>unemployed</td>\n",
       "      <td>married</td>\n",
       "      <td>primary</td>\n",
       "      <td>no</td>\n",
       "      <td>1787</td>\n",
       "      <td>no</td>\n",
       "      <td>no</td>\n",
       "      <td>cellular</td>\n",
       "      <td>19</td>\n",
       "      <td>oct</td>\n",
       "      <td>79</td>\n",
       "      <td>1</td>\n",
       "      <td>-1</td>\n",
       "      <td>0</td>\n",
       "      <td>unknown</td>\n",
       "      <td>no</td>\n",
       "    </tr>\n",
       "    <tr>\n",
       "      <th>1</th>\n",
       "      <td>33</td>\n",
       "      <td>services</td>\n",
       "      <td>married</td>\n",
       "      <td>secondary</td>\n",
       "      <td>no</td>\n",
       "      <td>4789</td>\n",
       "      <td>yes</td>\n",
       "      <td>yes</td>\n",
       "      <td>cellular</td>\n",
       "      <td>11</td>\n",
       "      <td>may</td>\n",
       "      <td>220</td>\n",
       "      <td>1</td>\n",
       "      <td>339</td>\n",
       "      <td>4</td>\n",
       "      <td>failure</td>\n",
       "      <td>no</td>\n",
       "    </tr>\n",
       "    <tr>\n",
       "      <th>2</th>\n",
       "      <td>35</td>\n",
       "      <td>management</td>\n",
       "      <td>single</td>\n",
       "      <td>tertiary</td>\n",
       "      <td>no</td>\n",
       "      <td>1350</td>\n",
       "      <td>yes</td>\n",
       "      <td>no</td>\n",
       "      <td>cellular</td>\n",
       "      <td>16</td>\n",
       "      <td>apr</td>\n",
       "      <td>185</td>\n",
       "      <td>1</td>\n",
       "      <td>330</td>\n",
       "      <td>1</td>\n",
       "      <td>failure</td>\n",
       "      <td>no</td>\n",
       "    </tr>\n",
       "  </tbody>\n",
       "</table>\n",
       "</div>"
      ],
      "text/plain": [
       "   age         job  marital  education default  balance housing loan  \\\n",
       "0   30  unemployed  married    primary      no     1787      no   no   \n",
       "1   33    services  married  secondary      no     4789     yes  yes   \n",
       "2   35  management   single   tertiary      no     1350     yes   no   \n",
       "\n",
       "    contact  day month  duration  campaign  pdays  previous poutcome   y  \n",
       "0  cellular   19   oct        79         1     -1         0  unknown  no  \n",
       "1  cellular   11   may       220         1    339         4  failure  no  \n",
       "2  cellular   16   apr       185         1    330         1  failure  no  "
      ]
     },
     "execution_count": 4,
     "metadata": {},
     "output_type": "execute_result"
    }
   ],
   "source": [
    "bfless.head(3)"
   ]
  },
  {
   "cell_type": "code",
   "execution_count": 5,
   "id": "c6607ec1",
   "metadata": {},
   "outputs": [
    {
     "data": {
      "text/html": [
       "<div>\n",
       "<style scoped>\n",
       "    .dataframe tbody tr th:only-of-type {\n",
       "        vertical-align: middle;\n",
       "    }\n",
       "\n",
       "    .dataframe tbody tr th {\n",
       "        vertical-align: top;\n",
       "    }\n",
       "\n",
       "    .dataframe thead th {\n",
       "        text-align: right;\n",
       "    }\n",
       "</style>\n",
       "<table border=\"1\" class=\"dataframe\">\n",
       "  <thead>\n",
       "    <tr style=\"text-align: right;\">\n",
       "      <th></th>\n",
       "      <th>age</th>\n",
       "      <th>job</th>\n",
       "      <th>marital</th>\n",
       "      <th>education</th>\n",
       "      <th>default</th>\n",
       "      <th>housing</th>\n",
       "      <th>loan</th>\n",
       "      <th>contact</th>\n",
       "      <th>month</th>\n",
       "      <th>day_of_week</th>\n",
       "      <th>...</th>\n",
       "      <th>campaign</th>\n",
       "      <th>pdays</th>\n",
       "      <th>previous</th>\n",
       "      <th>poutcome</th>\n",
       "      <th>emp.var.rate</th>\n",
       "      <th>cons.price.idx</th>\n",
       "      <th>cons.conf.idx</th>\n",
       "      <th>euribor3m</th>\n",
       "      <th>nr.employed</th>\n",
       "      <th>y</th>\n",
       "    </tr>\n",
       "  </thead>\n",
       "  <tbody>\n",
       "    <tr>\n",
       "      <th>0</th>\n",
       "      <td>56</td>\n",
       "      <td>housemaid</td>\n",
       "      <td>married</td>\n",
       "      <td>basic.4y</td>\n",
       "      <td>no</td>\n",
       "      <td>no</td>\n",
       "      <td>no</td>\n",
       "      <td>telephone</td>\n",
       "      <td>may</td>\n",
       "      <td>mon</td>\n",
       "      <td>...</td>\n",
       "      <td>1</td>\n",
       "      <td>999</td>\n",
       "      <td>0</td>\n",
       "      <td>nonexistent</td>\n",
       "      <td>1.1</td>\n",
       "      <td>93.994</td>\n",
       "      <td>-36.4</td>\n",
       "      <td>4.857</td>\n",
       "      <td>5191.0</td>\n",
       "      <td>no</td>\n",
       "    </tr>\n",
       "    <tr>\n",
       "      <th>1</th>\n",
       "      <td>57</td>\n",
       "      <td>services</td>\n",
       "      <td>married</td>\n",
       "      <td>high.school</td>\n",
       "      <td>unknown</td>\n",
       "      <td>no</td>\n",
       "      <td>no</td>\n",
       "      <td>telephone</td>\n",
       "      <td>may</td>\n",
       "      <td>mon</td>\n",
       "      <td>...</td>\n",
       "      <td>1</td>\n",
       "      <td>999</td>\n",
       "      <td>0</td>\n",
       "      <td>nonexistent</td>\n",
       "      <td>1.1</td>\n",
       "      <td>93.994</td>\n",
       "      <td>-36.4</td>\n",
       "      <td>4.857</td>\n",
       "      <td>5191.0</td>\n",
       "      <td>no</td>\n",
       "    </tr>\n",
       "    <tr>\n",
       "      <th>2</th>\n",
       "      <td>37</td>\n",
       "      <td>services</td>\n",
       "      <td>married</td>\n",
       "      <td>high.school</td>\n",
       "      <td>no</td>\n",
       "      <td>yes</td>\n",
       "      <td>no</td>\n",
       "      <td>telephone</td>\n",
       "      <td>may</td>\n",
       "      <td>mon</td>\n",
       "      <td>...</td>\n",
       "      <td>1</td>\n",
       "      <td>999</td>\n",
       "      <td>0</td>\n",
       "      <td>nonexistent</td>\n",
       "      <td>1.1</td>\n",
       "      <td>93.994</td>\n",
       "      <td>-36.4</td>\n",
       "      <td>4.857</td>\n",
       "      <td>5191.0</td>\n",
       "      <td>no</td>\n",
       "    </tr>\n",
       "  </tbody>\n",
       "</table>\n",
       "<p>3 rows × 21 columns</p>\n",
       "</div>"
      ],
      "text/plain": [
       "   age        job  marital    education  default housing loan    contact  \\\n",
       "0   56  housemaid  married     basic.4y       no      no   no  telephone   \n",
       "1   57   services  married  high.school  unknown      no   no  telephone   \n",
       "2   37   services  married  high.school       no     yes   no  telephone   \n",
       "\n",
       "  month day_of_week  ...  campaign  pdays  previous     poutcome emp.var.rate  \\\n",
       "0   may         mon  ...         1    999         0  nonexistent          1.1   \n",
       "1   may         mon  ...         1    999         0  nonexistent          1.1   \n",
       "2   may         mon  ...         1    999         0  nonexistent          1.1   \n",
       "\n",
       "   cons.price.idx  cons.conf.idx  euribor3m  nr.employed   y  \n",
       "0          93.994          -36.4      4.857       5191.0  no  \n",
       "1          93.994          -36.4      4.857       5191.0  no  \n",
       "2          93.994          -36.4      4.857       5191.0  no  \n",
       "\n",
       "[3 rows x 21 columns]"
      ]
     },
     "execution_count": 5,
     "metadata": {},
     "output_type": "execute_result"
    }
   ],
   "source": [
    "bad.head().head(3)"
   ]
  },
  {
   "cell_type": "code",
   "execution_count": 6,
   "id": "a0629cd9",
   "metadata": {
    "scrolled": true
   },
   "outputs": [
    {
     "name": "stdout",
     "output_type": "stream",
     "text": [
      "<class 'pandas.core.frame.DataFrame'>\n",
      "RangeIndex: 41188 entries, 0 to 41187\n",
      "Data columns (total 21 columns):\n",
      " #   Column          Non-Null Count  Dtype  \n",
      "---  ------          --------------  -----  \n",
      " 0   age             41188 non-null  int64  \n",
      " 1   job             41188 non-null  object \n",
      " 2   marital         41188 non-null  object \n",
      " 3   education       41188 non-null  object \n",
      " 4   default         41188 non-null  object \n",
      " 5   housing         41188 non-null  object \n",
      " 6   loan            41188 non-null  object \n",
      " 7   contact         41188 non-null  object \n",
      " 8   month           41188 non-null  object \n",
      " 9   day_of_week     41188 non-null  object \n",
      " 10  duration        41188 non-null  int64  \n",
      " 11  campaign        41188 non-null  int64  \n",
      " 12  pdays           41188 non-null  int64  \n",
      " 13  previous        41188 non-null  int64  \n",
      " 14  poutcome        41188 non-null  object \n",
      " 15  emp.var.rate    41188 non-null  float64\n",
      " 16  cons.price.idx  41188 non-null  float64\n",
      " 17  cons.conf.idx   41188 non-null  float64\n",
      " 18  euribor3m       41188 non-null  float64\n",
      " 19  nr.employed     41188 non-null  float64\n",
      " 20  y               41188 non-null  object \n",
      "dtypes: float64(5), int64(5), object(11)\n",
      "memory usage: 6.6+ MB\n"
     ]
    }
   ],
   "source": [
    "bad.info()"
   ]
  },
  {
   "cell_type": "markdown",
   "id": "1086c44f",
   "metadata": {},
   "source": [
    "1. age, umur\n",
    "2. job, Jenis pekerjaan (kategorikal: 'admin.', 'blue-collar', 'entrepreneur', 'housemaid', 'management', 'retired', 'self-employed', 'services', 'student', 'technician', 'unemployed', 'unknown') \n",
    "3. marital: Status perkawinan (kategorikal: 'divorced', 'married', 'single', 'unknown'; catatan: 'divorced' berarti bercerai atau duda/janda)\n",
    "4. education, Tingkat pendidikan (kategorikal: 'basic.4y', 'basic.6y', 'basic.9y', 'high.school', 'illiterate', 'professional.course', 'university.degree', 'unknown') \n",
    "5. default, Memiliki kredit macet? (kategorikal: 'no', 'yes', 'unknown') \n",
    "6. housing, Memiliki pinjaman perumahan? (kategorikal: 'no', 'yes', 'unknown')\n",
    "7. loan, Memiliki pinjaman pribadi? (kategorikal: 'no', 'yes', 'unknown')\n",
    "8. contact, Jenis komunikasi kontak (kategorikal: 'cellular', 'telephone')\n",
    "9. month, Bulan terakhir kontak dalam setahun (kategorikal: 'jan', 'feb', 'mar', ..., 'nov', 'dec')\n",
    "10. day_of_week, Hari dalam seminggu terakhir kontak (kategorikal: 'mon', 'tue', 'wed', 'thu', 'fri')\n",
    "11. duration,  Durasi kontak terakhir, dalam detik (numerik). Harap diperhatikan bahwa atribut ini hanya untuk tujuan pembanding dan harus diabaikan jika tujuan model prediksi yang realistis.\n",
    "12. campaign, Jumlah kontak yang dilakukan selama kampanye ini dan untuk klien ini (numerik, termasuk kontak terakhir)\n",
    "13. pdays , Jumlah hari setelah klien terakhir dihubungi dari kampanye sebelumnya (numerik; 999 berarti klien sebelumnya tidak dihubungi) \n",
    "14. previous, Jumlah kontak yang dilakukan sebelum kampanye ini dan untuk klien ini (numerik) \n",
    "15. poutcome ,  Hasil dari kampanye pemasaran sebelumnya (kategorikal: 'failure', 'nonexistent', 'success')\n",
    "16. emp.var.rate,  Indikator triwulanan tingkat variasi lapangan kerja (numerik)\n",
    "17. cons.price.idx, Indikator bulanan indeks harga konsumen (numerik)\n",
    "18. cons.conf.idx, Indikator bulanan indeks kepercayaan konsumen (numerik)\n",
    "19. euribor3m,  Tingkat euribor 3 bulan: Indikator harian tingkat euribor 3 bulan (numerik)\n",
    "20. nr.employed , Indikator triwulanan jumlah karyawan (numerik)\n",
    "21. y, Apakah klien berlangganan deposito jangka? (biner: 'yes', 'no')      "
   ]
  },
  {
   "cell_type": "code",
   "execution_count": 7,
   "id": "d0566b89",
   "metadata": {},
   "outputs": [
    {
     "data": {
      "text/plain": [
       "age               0\n",
       "job               0\n",
       "marital           0\n",
       "education         0\n",
       "default           0\n",
       "housing           0\n",
       "loan              0\n",
       "contact           0\n",
       "month             0\n",
       "day_of_week       0\n",
       "duration          0\n",
       "campaign          0\n",
       "pdays             0\n",
       "previous          0\n",
       "poutcome          0\n",
       "emp.var.rate      0\n",
       "cons.price.idx    0\n",
       "cons.conf.idx     0\n",
       "euribor3m         0\n",
       "nr.employed       0\n",
       "y                 0\n",
       "dtype: int64"
      ]
     },
     "execution_count": 7,
     "metadata": {},
     "output_type": "execute_result"
    }
   ],
   "source": [
    "bad.isnull().sum()"
   ]
  },
  {
   "cell_type": "code",
   "execution_count": 8,
   "id": "22c97133",
   "metadata": {},
   "outputs": [
    {
     "data": {
      "text/plain": [
       "age          0\n",
       "job          0\n",
       "marital      0\n",
       "education    0\n",
       "default      0\n",
       "balance      0\n",
       "housing      0\n",
       "loan         0\n",
       "contact      0\n",
       "day          0\n",
       "month        0\n",
       "duration     0\n",
       "campaign     0\n",
       "pdays        0\n",
       "previous     0\n",
       "poutcome     0\n",
       "y            0\n",
       "dtype: int64"
      ]
     },
     "execution_count": 8,
     "metadata": {},
     "output_type": "execute_result"
    }
   ],
   "source": [
    "bf.isnull().sum()"
   ]
  },
  {
   "cell_type": "code",
   "execution_count": 9,
   "id": "c376be64",
   "metadata": {},
   "outputs": [
    {
     "data": {
      "text/plain": [
       "age               0\n",
       "job               0\n",
       "marital           0\n",
       "education         0\n",
       "default           0\n",
       "housing           0\n",
       "loan              0\n",
       "contact           0\n",
       "month             0\n",
       "day_of_week       0\n",
       "duration          0\n",
       "campaign          0\n",
       "pdays             0\n",
       "previous          0\n",
       "poutcome          0\n",
       "emp.var.rate      0\n",
       "cons.price.idx    0\n",
       "cons.conf.idx     0\n",
       "euribor3m         0\n",
       "nr.employed       0\n",
       "y                 0\n",
       "dtype: int64"
      ]
     },
     "execution_count": 9,
     "metadata": {},
     "output_type": "execute_result"
    }
   ],
   "source": [
    "badless.isnull().sum()"
   ]
  },
  {
   "cell_type": "code",
   "execution_count": 10,
   "id": "35bdd4af",
   "metadata": {},
   "outputs": [
    {
     "data": {
      "text/plain": [
       "age          0\n",
       "job          0\n",
       "marital      0\n",
       "education    0\n",
       "default      0\n",
       "balance      0\n",
       "housing      0\n",
       "loan         0\n",
       "contact      0\n",
       "day          0\n",
       "month        0\n",
       "duration     0\n",
       "campaign     0\n",
       "pdays        0\n",
       "previous     0\n",
       "poutcome     0\n",
       "y            0\n",
       "dtype: int64"
      ]
     },
     "execution_count": 10,
     "metadata": {},
     "output_type": "execute_result"
    }
   ],
   "source": [
    "bfless.isnull().sum()"
   ]
  },
  {
   "cell_type": "markdown",
   "id": "dca7e24d",
   "metadata": {},
   "source": [
    "Tidak terdapat missing values pada informasi diatas"
   ]
  },
  {
   "cell_type": "markdown",
   "id": "c710fd49",
   "metadata": {},
   "source": [
    "## EDA"
   ]
  },
  {
   "cell_type": "code",
   "execution_count": 11,
   "id": "6d490b21",
   "metadata": {},
   "outputs": [
    {
     "data": {
      "image/png": "[encoded data removed]",
      "text/plain": [
       "<Figure size 600x400 with 1 Axes>"
      ]
     },
     "metadata": {},
     "output_type": "display_data"
    }
   ],
   "source": [
    "count_default = bad['default'].value_counts()\n",
    "plt.figure(figsize=(6, 4))\n",
    "plt.bar(count_default.index, count_default.values)\n",
    "plt.xlabel('Kredit Macet')\n",
    "plt.ylabel('Jumlah Klien')\n",
    "plt.title('Distribusi Kredit Macet')\n",
    "plt.show()"
   ]
  },
  {
   "cell_type": "code",
   "execution_count": 12,
   "id": "e409ff2c",
   "metadata": {},
   "outputs": [
    {
     "name": "stdout",
     "output_type": "stream",
     "text": [
      "no         0.791201\n",
      "unknown    0.208726\n",
      "yes        0.000073\n",
      "Name: default, dtype: float64\n"
     ]
    }
   ],
   "source": [
    "prop_default = bad['default'].value_counts(normalize=True)\n",
    "\n",
    "# Menampilkan hasil\n",
    "print(prop_default)"
   ]
  },
  {
   "cell_type": "markdown",
   "id": "56a1d7e1",
   "metadata": {},
   "source": [
    "Berikut Proporsi yang mengalami kredit macet \n",
    "1. Orang yang tidak mengalami kredit macet ada sekitar 79%\n",
    "2. Orang yang tidak tahu bahwa kredit macet sekitar 20%\n",
    "3. Orang yang mengalami kredit macet 0.0073% yang mengalami kredit macet"
   ]
  },
  {
   "cell_type": "code",
   "execution_count": 13,
   "id": "c75f8fd6",
   "metadata": {},
   "outputs": [
    {
     "data": {
      "image/png": "[encoded data removed]",
      "text/plain": [
       "<Figure size 600x400 with 1 Axes>"
      ]
     },
     "metadata": {},
     "output_type": "display_data"
    }
   ],
   "source": [
    "count_default = bf['default'].value_counts()\n",
    "plt.figure(figsize=(6, 4))\n",
    "plt.bar(count_default.index, count_default.values)\n",
    "plt.xlabel('Kredit Macet')\n",
    "plt.ylabel('Jumlah Klien')\n",
    "plt.title('Distribusi Kredit Macet')\n",
    "plt.show()"
   ]
  },
  {
   "cell_type": "code",
   "execution_count": 14,
   "id": "a9f59928",
   "metadata": {},
   "outputs": [
    {
     "name": "stdout",
     "output_type": "stream",
     "text": [
      "no     0.981973\n",
      "yes    0.018027\n",
      "Name: default, dtype: float64\n"
     ]
    }
   ],
   "source": [
    "prop_default = bf['default'].value_counts(normalize=True)\n",
    "\n",
    "# Menampilkan hasil\n",
    "print(prop_default)"
   ]
  },
  {
   "cell_type": "markdown",
   "id": "16ad23eb",
   "metadata": {},
   "source": [
    "Berikut Proporsi yang mengalami kredit macet \n",
    "1. Orang yang tidak mengalami kredit macet ada sekitar 98%\n",
    "2. Orang yang mengalami kredit macet 2% yang mengalami kredit macet"
   ]
  },
  {
   "cell_type": "code",
   "execution_count": 15,
   "id": "46426c3b",
   "metadata": {},
   "outputs": [
    {
     "name": "stdout",
     "output_type": "stream",
     "text": [
      "Data untuk default:\n",
      "              job  default  total\n",
      "0          admin.       no   9129\n",
      "1          admin.  unknown   1293\n",
      "2     blue-collar       no   6088\n",
      "3     blue-collar  unknown   3166\n",
      "4    entrepreneur       no   1155\n",
      "5    entrepreneur  unknown    301\n",
      "6       housemaid       no    741\n",
      "7       housemaid  unknown    319\n",
      "8      management       no   2466\n",
      "9      management  unknown    458\n",
      "10        retired       no   1327\n",
      "11        retired  unknown    393\n",
      "12  self-employed       no   1139\n",
      "13  self-employed  unknown    282\n",
      "14       services       no   3053\n",
      "15       services  unknown    916\n",
      "16        student       no    771\n",
      "17        student  unknown    104\n",
      "18     technician       no   5765\n",
      "19     technician  unknown    976\n",
      "20     technician      yes      2\n",
      "21     unemployed       no    776\n",
      "22     unemployed  unknown    237\n",
      "23     unemployed      yes      1\n",
      "24        unknown       no    178\n",
      "25        unknown  unknown    152\n",
      "\n",
      "Data untuk housing:\n",
      "              job  housing  total\n",
      "0          admin.       no   4636\n",
      "1          admin.  unknown    227\n",
      "2          admin.      yes   5559\n",
      "3     blue-collar       no   4304\n",
      "4     blue-collar  unknown    240\n",
      "5     blue-collar      yes   4710\n",
      "6    entrepreneur       no    641\n",
      "7    entrepreneur  unknown     36\n",
      "8    entrepreneur      yes    779\n",
      "9       housemaid       no    491\n",
      "10      housemaid  unknown     29\n",
      "11      housemaid      yes    540\n",
      "12     management       no   1363\n",
      "13     management  unknown     71\n",
      "14     management      yes   1490\n",
      "15        retired       no    784\n",
      "16        retired  unknown     44\n",
      "17        retired      yes    892\n",
      "18  self-employed       no    641\n",
      "19  self-employed  unknown     40\n",
      "20  self-employed      yes    740\n",
      "21       services       no   1818\n",
      "22       services  unknown    101\n",
      "23       services      yes   2050\n",
      "24        student       no    381\n",
      "25        student  unknown     23\n",
      "26        student      yes    471\n",
      "27     technician       no   2980\n",
      "28     technician  unknown    147\n",
      "29     technician      yes   3616\n",
      "30     unemployed       no    430\n",
      "31     unemployed  unknown     27\n",
      "32     unemployed      yes    557\n",
      "33        unknown       no    153\n",
      "34        unknown  unknown      5\n",
      "35        unknown      yes    172\n",
      "\n",
      "Data untuk loan:\n",
      "              job     loan  total\n",
      "0          admin.       no   8485\n",
      "1          admin.  unknown    227\n",
      "2          admin.      yes   1710\n",
      "3     blue-collar       no   7648\n",
      "4     blue-collar  unknown    240\n",
      "5     blue-collar      yes   1366\n",
      "6    entrepreneur       no   1214\n",
      "7    entrepreneur  unknown     36\n",
      "8    entrepreneur      yes    206\n",
      "9       housemaid       no    877\n",
      "10      housemaid  unknown     29\n",
      "11      housemaid      yes    154\n",
      "12     management       no   2414\n",
      "13     management  unknown     71\n",
      "14     management      yes    439\n",
      "15        retired       no   1436\n",
      "16        retired  unknown     44\n",
      "17        retired      yes    240\n",
      "18  self-employed       no   1186\n",
      "19  self-employed  unknown     40\n",
      "20  self-employed      yes    195\n",
      "21       services       no   3267\n",
      "22       services  unknown    101\n",
      "23       services      yes    601\n",
      "24        student       no    710\n",
      "25        student  unknown     23\n",
      "26        student      yes    142\n",
      "27     technician       no   5607\n",
      "28     technician  unknown    147\n",
      "29     technician      yes    989\n",
      "30     unemployed       no    838\n",
      "31     unemployed  unknown     27\n",
      "32     unemployed      yes    149\n",
      "33        unknown       no    268\n",
      "34        unknown  unknown      5\n",
      "35        unknown      yes     57\n",
      "\n"
     ]
    },
    {
     "data": {
      "image/png": "[encoded data removed]",
      "text/plain": [
       "<Figure size 1200x1000 with 3 Axes>"
      ]
     },
     "metadata": {},
     "output_type": "display_data"
    }
   ],
   "source": [
    "# Menentukan fitur-fitur yang akan digunakan dalam EDA\n",
    "categorical_features = ['default', 'housing', 'loan']\n",
    "\n",
    "# Membuat subplot untuk setiap fitur kategorikal\n",
    "fig, axes = plt.subplots(len(categorical_features), 1, figsize=(12, 10))\n",
    "\n",
    "# Loop melalui setiap fitur kategorikal\n",
    "for i, feature in enumerate(categorical_features):\n",
    "    # Menghitung jumlah data untuk setiap kombinasi jenis pekerjaan dan fitur kategorikal\n",
    "    grouped_data = bad.groupby(['job', feature]).size().reset_index(name='total')\n",
    "\n",
    "    # Menampilkan data yang digunakan dalam pembuatan bar plot\n",
    "    print(\"Data untuk {}:\".format(feature))\n",
    "    print(grouped_data)\n",
    "    print()\n",
    "\n",
    "    # Membuat bar plot\n",
    "    sns.barplot(x='job', y='total', hue=feature, data=grouped_data, ax=axes[i])\n",
    "    axes[i].set_title('Bar Plot: Jumlah Data berdasarkan Jenis Pekerjaan dan {}'.format(feature))\n",
    "    axes[i].set_xlabel('Jenis Pekerjaan')\n",
    "    axes[i].set_ylabel('Jumlah Data')\n",
    "    axes[i].legend()\n",
    "\n",
    "# Menyesuaikan tata letak subplot\n",
    "plt.tight_layout()\n",
    "\n",
    "# Menampilkan plot\n",
    "plt.show()\n"
   ]
  },
  {
   "cell_type": "code",
   "execution_count": 16,
   "id": "7daeaed3",
   "metadata": {},
   "outputs": [
    {
     "name": "stdout",
     "output_type": "stream",
     "text": [
      "Data untuk default:\n",
      "              job default  total\n",
      "0          admin.      no   5097\n",
      "1          admin.     yes     74\n",
      "2     blue-collar      no   9531\n",
      "3     blue-collar     yes    201\n",
      "4    entrepreneur      no   1432\n",
      "5    entrepreneur     yes     55\n",
      "6       housemaid      no   1218\n",
      "7       housemaid     yes     22\n",
      "8      management      no   9294\n",
      "9      management     yes    164\n",
      "10        retired      no   2238\n",
      "11        retired     yes     26\n",
      "12  self-employed      no   1546\n",
      "13  self-employed     yes     33\n",
      "14       services      no   4079\n",
      "15       services     yes     75\n",
      "16        student      no    935\n",
      "17        student     yes      3\n",
      "18     technician      no   7467\n",
      "19     technician     yes    130\n",
      "20     unemployed      no   1273\n",
      "21     unemployed     yes     30\n",
      "22        unknown      no    286\n",
      "23        unknown     yes      2\n",
      "\n",
      "Data untuk housing:\n",
      "              job housing  total\n",
      "0          admin.      no   1989\n",
      "1          admin.     yes   3182\n",
      "2     blue-collar      no   2684\n",
      "3     blue-collar     yes   7048\n",
      "4    entrepreneur      no    618\n",
      "5    entrepreneur     yes    869\n",
      "6       housemaid      no    842\n",
      "7       housemaid     yes    398\n",
      "8      management      no   4780\n",
      "9      management     yes   4678\n",
      "10        retired      no   1773\n",
      "11        retired     yes    491\n",
      "12  self-employed      no    814\n",
      "13  self-employed     yes    765\n",
      "14       services      no   1388\n",
      "15       services     yes   2766\n",
      "16        student      no    689\n",
      "17        student     yes    249\n",
      "18     technician      no   3482\n",
      "19     technician     yes   4115\n",
      "20     unemployed      no    760\n",
      "21     unemployed     yes    543\n",
      "22        unknown      no    262\n",
      "23        unknown     yes     26\n",
      "\n",
      "Data untuk loan:\n",
      "              job loan  total\n",
      "0          admin.   no   4180\n",
      "1          admin.  yes    991\n",
      "2     blue-collar   no   8048\n",
      "3     blue-collar  yes   1684\n",
      "4    entrepreneur   no   1131\n",
      "5    entrepreneur  yes    356\n",
      "6       housemaid   no   1088\n",
      "7       housemaid  yes    152\n",
      "8      management   no   8205\n",
      "9      management  yes   1253\n",
      "10        retired   no   1955\n",
      "11        retired  yes    309\n",
      "12  self-employed   no   1350\n",
      "13  self-employed  yes    229\n",
      "14       services   no   3318\n",
      "15       services  yes    836\n",
      "16        student   no    926\n",
      "17        student  yes     12\n",
      "18     technician   no   6288\n",
      "19     technician  yes   1309\n",
      "20     unemployed   no   1194\n",
      "21     unemployed  yes    109\n",
      "22        unknown   no    284\n",
      "23        unknown  yes      4\n",
      "\n"
     ]
    },
    {
     "data": {
      "image/png": "[encoded data removed]",
      "text/plain": [
       "<Figure size 1200x1000 with 3 Axes>"
      ]
     },
     "metadata": {},
     "output_type": "display_data"
    }
   ],
   "source": [
    "# Menentukan fitur-fitur yang akan digunakan dalam EDA\n",
    "categorical_features = ['default', 'housing', 'loan']\n",
    "\n",
    "# Membuat subplot untuk setiap fitur kategorikal\n",
    "fig, axes = plt.subplots(len(categorical_features), 1, figsize=(12, 10))\n",
    "\n",
    "# Loop melalui setiap fitur kategorikal\n",
    "for i, feature in enumerate(categorical_features):\n",
    "    # Menghitung jumlah data untuk setiap kombinasi jenis pekerjaan dan fitur kategorikal\n",
    "    grouped_data = bf.groupby(['job', feature]).size().reset_index(name='total')\n",
    "\n",
    "    # Menampilkan data yang digunakan dalam pembuatan bar plot\n",
    "    print(\"Data untuk {}:\".format(feature))\n",
    "    print(grouped_data)\n",
    "    print()\n",
    "\n",
    "    # Membuat bar plot\n",
    "    sns.barplot(x='job', y='total', hue=feature, data=grouped_data, ax=axes[i])\n",
    "    axes[i].set_title('Bar Plot: Jumlah Data berdasarkan Jenis Pekerjaan dan {}'.format(feature))\n",
    "    axes[i].set_xlabel('Jenis Pekerjaan')\n",
    "    axes[i].set_ylabel('Jumlah Data')\n",
    "    axes[i].legend()\n",
    "\n",
    "# Menyesuaikan tata letak subplot\n",
    "plt.tight_layout()\n",
    "\n",
    "# Menampilkan plot\n",
    "plt.show()\n"
   ]
  },
  {
   "cell_type": "code",
   "execution_count": 17,
   "id": "e1dc2323",
   "metadata": {},
   "outputs": [
    {
     "name": "stdout",
     "output_type": "stream",
     "text": [
      "Jumlah Kelas 'yes': 4640\n",
      "Jumlah Kelas 'no': 36548\n",
      "Persentase Kelas 'yes': 11.27 %\n",
      "Persentase Kelas 'no': 88.73 %\n"
     ]
    },
    {
     "data": {
      "image/png": "[encoded data removed]",
      "text/plain": [
       "<Figure size 600x400 with 1 Axes>"
      ]
     },
     "metadata": {},
     "output_type": "display_data"
    }
   ],
   "source": [
    "# Menghitung jumlah kelas 'yes' dan 'no'\n",
    "count_classes = bad['y'].value_counts()\n",
    "total_samples = count_classes.sum()\n",
    "\n",
    "# Menghitung persentase kelas 'yes' dan 'no'\n",
    "percentage_classes = count_classes / total_samples * 100\n",
    "\n",
    "# Menampilkan jumlah dan persentase kelas 'yes' dan 'no'\n",
    "print(\"Jumlah Kelas 'yes':\", count_classes['yes'])\n",
    "print(\"Jumlah Kelas 'no':\", count_classes['no'])\n",
    "print(\"Persentase Kelas 'yes':\", percentage_classes['yes'].round(2), \"%\")\n",
    "print(\"Persentase Kelas 'no':\", percentage_classes['no'].round(2), \"%\")\n",
    "\n",
    "# Visualisasi distribusi kelas output menggunakan diagram batang\n",
    "plt.figure(figsize=(6, 4))\n",
    "plt.bar(count_classes.index, count_classes.values)\n",
    "plt.xlabel('Kelas')\n",
    "plt.ylabel('Jumlah')\n",
    "plt.title('Distribusi Kelas Output')\n",
    "plt.show()\n"
   ]
  },
  {
   "cell_type": "code",
   "execution_count": 18,
   "id": "6c6d3024",
   "metadata": {},
   "outputs": [
    {
     "name": "stdout",
     "output_type": "stream",
     "text": [
      "Jumlah Kelas 'yes': 5289\n",
      "Jumlah Kelas 'no': 39922\n",
      "Persentase Kelas 'yes': 11.7 %\n",
      "Persentase Kelas 'no': 88.3 %\n"
     ]
    },
    {
     "data": {
      "image/png": "[encoded data removed]",
      "text/plain": [
       "<Figure size 600x400 with 1 Axes>"
      ]
     },
     "metadata": {},
     "output_type": "display_data"
    }
   ],
   "source": [
    "# Menghitung jumlah kelas 'yes' dan 'no'\n",
    "count_classes = bf['y'].value_counts()\n",
    "total_samples = count_classes.sum()\n",
    "\n",
    "# Menghitung persentase kelas 'yes' dan 'no'\n",
    "percentage_classes = count_classes / total_samples * 100\n",
    "\n",
    "# Menampilkan jumlah dan persentase kelas 'yes' dan 'no'\n",
    "print(\"Jumlah Kelas 'yes':\", count_classes['yes'])\n",
    "print(\"Jumlah Kelas 'no':\", count_classes['no'])\n",
    "print(\"Persentase Kelas 'yes':\", percentage_classes['yes'].round(2), \"%\")\n",
    "print(\"Persentase Kelas 'no':\", percentage_classes['no'].round(2), \"%\")\n",
    "\n",
    "# Visualisasi distribusi kelas output menggunakan diagram batang\n",
    "plt.figure(figsize=(6, 4))\n",
    "plt.bar(count_classes.index, count_classes.values)\n",
    "plt.xlabel('Kelas')\n",
    "plt.ylabel('Jumlah')\n",
    "plt.title('Distribusi Kelas Output')\n",
    "plt.show()\n"
   ]
  },
  {
   "cell_type": "markdown",
   "id": "5ee58ba5",
   "metadata": {},
   "source": [
    "# Data Preprocessing"
   ]
  },
  {
   "cell_type": "markdown",
   "id": "c24250d1",
   "metadata": {},
   "source": [
    "Kita membagi beberapa data menjadi 2 bagian yaitu data train dan data test, karena sebelumnya kita disediakan 4 data yang mana asumsi saya bahwa data yang hanya mengambil 10% dari data asli merupakan data-test. "
   ]
  },
  {
   "cell_type": "code",
   "execution_count": 19,
   "id": "073eaa7c",
   "metadata": {},
   "outputs": [],
   "source": [
    "#bank additional full\n",
    "X_train_bad = bad.drop('y', axis=1)\n",
    "y_train_bad = bad['y']\n",
    "X_test_bad = badless.drop('y', axis=1)\n",
    "y_test_bad = badless['y']"
   ]
  },
  {
   "cell_type": "code",
   "execution_count": 20,
   "id": "449b04a4",
   "metadata": {},
   "outputs": [],
   "source": [
    "#bank full\n",
    "X_train_bf = bf.drop('y', axis=1)\n",
    "y_train_bf = bf['y']\n",
    "X_test_bf = bfless.drop('y', axis=1)\n",
    "y_test_bf = bfless['y']"
   ]
  },
  {
   "cell_type": "markdown",
   "id": "444cfd79",
   "metadata": {},
   "source": [
    "Kita lakukan encoding, hal ini digunakan untuk membuat objek encoder. Kemudian, metode fit_transform() digunakan untuk mempelajari pemetaan dari nilai-nilai unik dalam fitur dan mengubah nilai-nilai tersebut menjadi representasi angka."
   ]
  },
  {
   "cell_type": "code",
   "execution_count": 21,
   "id": "0ed4b26d",
   "metadata": {},
   "outputs": [
    {
     "data": {
      "text/html": [
       "<div>\n",
       "<style scoped>\n",
       "    .dataframe tbody tr th:only-of-type {\n",
       "        vertical-align: middle;\n",
       "    }\n",
       "\n",
       "    .dataframe tbody tr th {\n",
       "        vertical-align: top;\n",
       "    }\n",
       "\n",
       "    .dataframe thead th {\n",
       "        text-align: right;\n",
       "    }\n",
       "</style>\n",
       "<table border=\"1\" class=\"dataframe\">\n",
       "  <thead>\n",
       "    <tr style=\"text-align: right;\">\n",
       "      <th></th>\n",
       "      <th>age</th>\n",
       "      <th>job</th>\n",
       "      <th>marital</th>\n",
       "      <th>education</th>\n",
       "      <th>default</th>\n",
       "      <th>housing</th>\n",
       "      <th>loan</th>\n",
       "      <th>contact</th>\n",
       "      <th>month</th>\n",
       "      <th>day_of_week</th>\n",
       "      <th>duration</th>\n",
       "      <th>campaign</th>\n",
       "      <th>pdays</th>\n",
       "      <th>previous</th>\n",
       "      <th>poutcome</th>\n",
       "      <th>emp.var.rate</th>\n",
       "      <th>cons.price.idx</th>\n",
       "      <th>cons.conf.idx</th>\n",
       "      <th>euribor3m</th>\n",
       "      <th>nr.employed</th>\n",
       "    </tr>\n",
       "  </thead>\n",
       "  <tbody>\n",
       "    <tr>\n",
       "      <th>0</th>\n",
       "      <td>12</td>\n",
       "      <td>1</td>\n",
       "      <td>1</td>\n",
       "      <td>2</td>\n",
       "      <td>0</td>\n",
       "      <td>2</td>\n",
       "      <td>0</td>\n",
       "      <td>0</td>\n",
       "      <td>6</td>\n",
       "      <td>0</td>\n",
       "      <td>474</td>\n",
       "      <td>1</td>\n",
       "      <td>20</td>\n",
       "      <td>0</td>\n",
       "      <td>1</td>\n",
       "      <td>3</td>\n",
       "      <td>8</td>\n",
       "      <td>4</td>\n",
       "      <td>156</td>\n",
       "      <td>6</td>\n",
       "    </tr>\n",
       "    <tr>\n",
       "      <th>1</th>\n",
       "      <td>21</td>\n",
       "      <td>7</td>\n",
       "      <td>2</td>\n",
       "      <td>3</td>\n",
       "      <td>0</td>\n",
       "      <td>0</td>\n",
       "      <td>0</td>\n",
       "      <td>1</td>\n",
       "      <td>6</td>\n",
       "      <td>0</td>\n",
       "      <td>343</td>\n",
       "      <td>3</td>\n",
       "      <td>20</td>\n",
       "      <td>0</td>\n",
       "      <td>1</td>\n",
       "      <td>8</td>\n",
       "      <td>18</td>\n",
       "      <td>16</td>\n",
       "      <td>207</td>\n",
       "      <td>8</td>\n",
       "    </tr>\n",
       "    <tr>\n",
       "      <th>2</th>\n",
       "      <td>7</td>\n",
       "      <td>7</td>\n",
       "      <td>1</td>\n",
       "      <td>3</td>\n",
       "      <td>0</td>\n",
       "      <td>2</td>\n",
       "      <td>0</td>\n",
       "      <td>1</td>\n",
       "      <td>4</td>\n",
       "      <td>4</td>\n",
       "      <td>224</td>\n",
       "      <td>0</td>\n",
       "      <td>20</td>\n",
       "      <td>0</td>\n",
       "      <td>1</td>\n",
       "      <td>9</td>\n",
       "      <td>23</td>\n",
       "      <td>8</td>\n",
       "      <td>225</td>\n",
       "      <td>10</td>\n",
       "    </tr>\n",
       "    <tr>\n",
       "      <th>3</th>\n",
       "      <td>20</td>\n",
       "      <td>7</td>\n",
       "      <td>1</td>\n",
       "      <td>2</td>\n",
       "      <td>0</td>\n",
       "      <td>1</td>\n",
       "      <td>1</td>\n",
       "      <td>1</td>\n",
       "      <td>4</td>\n",
       "      <td>0</td>\n",
       "      <td>14</td>\n",
       "      <td>2</td>\n",
       "      <td>20</td>\n",
       "      <td>0</td>\n",
       "      <td>1</td>\n",
       "      <td>9</td>\n",
       "      <td>23</td>\n",
       "      <td>8</td>\n",
       "      <td>222</td>\n",
       "      <td>10</td>\n",
       "    </tr>\n",
       "    <tr>\n",
       "      <th>4</th>\n",
       "      <td>29</td>\n",
       "      <td>0</td>\n",
       "      <td>1</td>\n",
       "      <td>6</td>\n",
       "      <td>0</td>\n",
       "      <td>2</td>\n",
       "      <td>0</td>\n",
       "      <td>0</td>\n",
       "      <td>7</td>\n",
       "      <td>1</td>\n",
       "      <td>55</td>\n",
       "      <td>0</td>\n",
       "      <td>20</td>\n",
       "      <td>0</td>\n",
       "      <td>1</td>\n",
       "      <td>7</td>\n",
       "      <td>11</td>\n",
       "      <td>7</td>\n",
       "      <td>201</td>\n",
       "      <td>9</td>\n",
       "    </tr>\n",
       "  </tbody>\n",
       "</table>\n",
       "</div>"
      ],
      "text/plain": [
       "   age  job  marital  education  default  housing  loan  contact  month  \\\n",
       "0   12    1        1          2        0        2     0        0      6   \n",
       "1   21    7        2          3        0        0     0        1      6   \n",
       "2    7    7        1          3        0        2     0        1      4   \n",
       "3   20    7        1          2        0        1     1        1      4   \n",
       "4   29    0        1          6        0        2     0        0      7   \n",
       "\n",
       "   day_of_week  duration  campaign  pdays  previous  poutcome  emp.var.rate  \\\n",
       "0            0       474         1     20         0         1             3   \n",
       "1            0       343         3     20         0         1             8   \n",
       "2            4       224         0     20         0         1             9   \n",
       "3            0        14         2     20         0         1             9   \n",
       "4            1        55         0     20         0         1             7   \n",
       "\n",
       "   cons.price.idx  cons.conf.idx  euribor3m  nr.employed  \n",
       "0               8              4        156            6  \n",
       "1              18             16        207            8  \n",
       "2              23              8        225           10  \n",
       "3              23              8        222           10  \n",
       "4              11              7        201            9  "
      ]
     },
     "execution_count": 21,
     "metadata": {},
     "output_type": "execute_result"
    }
   ],
   "source": [
    "X_train_encoded = X_train_bad.apply(preprocessing.LabelEncoder().fit_transform)\n",
    "X_test_encoded = X_test_bad.apply(preprocessing.LabelEncoder().fit_transform)\n",
    "\n",
    "X_test_encoded.head()"
   ]
  },
  {
   "cell_type": "markdown",
   "id": "733fd82d",
   "metadata": {},
   "source": [
    "Lalu pada dataset satu lagi saya gunakan One-hot encoding, hal ini dilakukan untuk mengubah variabel kategorikal menjadi sejumlah variabel biner, di mana setiap variabel biner menunjukkan kehadiran atau ketidakhadiran suatu nilai dalam kategori tersebut."
   ]
  },
  {
   "cell_type": "code",
   "execution_count": 22,
   "id": "8b690eab",
   "metadata": {},
   "outputs": [
    {
     "data": {
      "text/html": [
       "<div>\n",
       "<style scoped>\n",
       "    .dataframe tbody tr th:only-of-type {\n",
       "        vertical-align: middle;\n",
       "    }\n",
       "\n",
       "    .dataframe tbody tr th {\n",
       "        vertical-align: top;\n",
       "    }\n",
       "\n",
       "    .dataframe thead th {\n",
       "        text-align: right;\n",
       "    }\n",
       "</style>\n",
       "<table border=\"1\" class=\"dataframe\">\n",
       "  <thead>\n",
       "    <tr style=\"text-align: right;\">\n",
       "      <th></th>\n",
       "      <th>age</th>\n",
       "      <th>balance</th>\n",
       "      <th>day</th>\n",
       "      <th>duration</th>\n",
       "      <th>campaign</th>\n",
       "      <th>pdays</th>\n",
       "      <th>previous</th>\n",
       "      <th>job_admin.</th>\n",
       "      <th>job_blue-collar</th>\n",
       "      <th>job_entrepreneur</th>\n",
       "      <th>...</th>\n",
       "      <th>month_jun</th>\n",
       "      <th>month_mar</th>\n",
       "      <th>month_may</th>\n",
       "      <th>month_nov</th>\n",
       "      <th>month_oct</th>\n",
       "      <th>month_sep</th>\n",
       "      <th>poutcome_failure</th>\n",
       "      <th>poutcome_other</th>\n",
       "      <th>poutcome_success</th>\n",
       "      <th>poutcome_unknown</th>\n",
       "    </tr>\n",
       "  </thead>\n",
       "  <tbody>\n",
       "    <tr>\n",
       "      <th>0</th>\n",
       "      <td>30</td>\n",
       "      <td>1787</td>\n",
       "      <td>19</td>\n",
       "      <td>79</td>\n",
       "      <td>1</td>\n",
       "      <td>-1</td>\n",
       "      <td>0</td>\n",
       "      <td>0</td>\n",
       "      <td>0</td>\n",
       "      <td>0</td>\n",
       "      <td>...</td>\n",
       "      <td>0</td>\n",
       "      <td>0</td>\n",
       "      <td>0</td>\n",
       "      <td>0</td>\n",
       "      <td>1</td>\n",
       "      <td>0</td>\n",
       "      <td>0</td>\n",
       "      <td>0</td>\n",
       "      <td>0</td>\n",
       "      <td>1</td>\n",
       "    </tr>\n",
       "    <tr>\n",
       "      <th>1</th>\n",
       "      <td>33</td>\n",
       "      <td>4789</td>\n",
       "      <td>11</td>\n",
       "      <td>220</td>\n",
       "      <td>1</td>\n",
       "      <td>339</td>\n",
       "      <td>4</td>\n",
       "      <td>0</td>\n",
       "      <td>0</td>\n",
       "      <td>0</td>\n",
       "      <td>...</td>\n",
       "      <td>0</td>\n",
       "      <td>0</td>\n",
       "      <td>1</td>\n",
       "      <td>0</td>\n",
       "      <td>0</td>\n",
       "      <td>0</td>\n",
       "      <td>1</td>\n",
       "      <td>0</td>\n",
       "      <td>0</td>\n",
       "      <td>0</td>\n",
       "    </tr>\n",
       "    <tr>\n",
       "      <th>2</th>\n",
       "      <td>35</td>\n",
       "      <td>1350</td>\n",
       "      <td>16</td>\n",
       "      <td>185</td>\n",
       "      <td>1</td>\n",
       "      <td>330</td>\n",
       "      <td>1</td>\n",
       "      <td>0</td>\n",
       "      <td>0</td>\n",
       "      <td>0</td>\n",
       "      <td>...</td>\n",
       "      <td>0</td>\n",
       "      <td>0</td>\n",
       "      <td>0</td>\n",
       "      <td>0</td>\n",
       "      <td>0</td>\n",
       "      <td>0</td>\n",
       "      <td>1</td>\n",
       "      <td>0</td>\n",
       "      <td>0</td>\n",
       "      <td>0</td>\n",
       "    </tr>\n",
       "    <tr>\n",
       "      <th>3</th>\n",
       "      <td>30</td>\n",
       "      <td>1476</td>\n",
       "      <td>3</td>\n",
       "      <td>199</td>\n",
       "      <td>4</td>\n",
       "      <td>-1</td>\n",
       "      <td>0</td>\n",
       "      <td>0</td>\n",
       "      <td>0</td>\n",
       "      <td>0</td>\n",
       "      <td>...</td>\n",
       "      <td>1</td>\n",
       "      <td>0</td>\n",
       "      <td>0</td>\n",
       "      <td>0</td>\n",
       "      <td>0</td>\n",
       "      <td>0</td>\n",
       "      <td>0</td>\n",
       "      <td>0</td>\n",
       "      <td>0</td>\n",
       "      <td>1</td>\n",
       "    </tr>\n",
       "    <tr>\n",
       "      <th>4</th>\n",
       "      <td>59</td>\n",
       "      <td>0</td>\n",
       "      <td>5</td>\n",
       "      <td>226</td>\n",
       "      <td>1</td>\n",
       "      <td>-1</td>\n",
       "      <td>0</td>\n",
       "      <td>0</td>\n",
       "      <td>1</td>\n",
       "      <td>0</td>\n",
       "      <td>...</td>\n",
       "      <td>0</td>\n",
       "      <td>0</td>\n",
       "      <td>1</td>\n",
       "      <td>0</td>\n",
       "      <td>0</td>\n",
       "      <td>0</td>\n",
       "      <td>0</td>\n",
       "      <td>0</td>\n",
       "      <td>0</td>\n",
       "      <td>1</td>\n",
       "    </tr>\n",
       "    <tr>\n",
       "      <th>...</th>\n",
       "      <td>...</td>\n",
       "      <td>...</td>\n",
       "      <td>...</td>\n",
       "      <td>...</td>\n",
       "      <td>...</td>\n",
       "      <td>...</td>\n",
       "      <td>...</td>\n",
       "      <td>...</td>\n",
       "      <td>...</td>\n",
       "      <td>...</td>\n",
       "      <td>...</td>\n",
       "      <td>...</td>\n",
       "      <td>...</td>\n",
       "      <td>...</td>\n",
       "      <td>...</td>\n",
       "      <td>...</td>\n",
       "      <td>...</td>\n",
       "      <td>...</td>\n",
       "      <td>...</td>\n",
       "      <td>...</td>\n",
       "      <td>...</td>\n",
       "    </tr>\n",
       "    <tr>\n",
       "      <th>4516</th>\n",
       "      <td>33</td>\n",
       "      <td>-333</td>\n",
       "      <td>30</td>\n",
       "      <td>329</td>\n",
       "      <td>5</td>\n",
       "      <td>-1</td>\n",
       "      <td>0</td>\n",
       "      <td>0</td>\n",
       "      <td>0</td>\n",
       "      <td>0</td>\n",
       "      <td>...</td>\n",
       "      <td>0</td>\n",
       "      <td>0</td>\n",
       "      <td>0</td>\n",
       "      <td>0</td>\n",
       "      <td>0</td>\n",
       "      <td>0</td>\n",
       "      <td>0</td>\n",
       "      <td>0</td>\n",
       "      <td>0</td>\n",
       "      <td>1</td>\n",
       "    </tr>\n",
       "    <tr>\n",
       "      <th>4517</th>\n",
       "      <td>57</td>\n",
       "      <td>-3313</td>\n",
       "      <td>9</td>\n",
       "      <td>153</td>\n",
       "      <td>1</td>\n",
       "      <td>-1</td>\n",
       "      <td>0</td>\n",
       "      <td>0</td>\n",
       "      <td>0</td>\n",
       "      <td>0</td>\n",
       "      <td>...</td>\n",
       "      <td>0</td>\n",
       "      <td>0</td>\n",
       "      <td>1</td>\n",
       "      <td>0</td>\n",
       "      <td>0</td>\n",
       "      <td>0</td>\n",
       "      <td>0</td>\n",
       "      <td>0</td>\n",
       "      <td>0</td>\n",
       "      <td>1</td>\n",
       "    </tr>\n",
       "    <tr>\n",
       "      <th>4518</th>\n",
       "      <td>57</td>\n",
       "      <td>295</td>\n",
       "      <td>19</td>\n",
       "      <td>151</td>\n",
       "      <td>11</td>\n",
       "      <td>-1</td>\n",
       "      <td>0</td>\n",
       "      <td>0</td>\n",
       "      <td>0</td>\n",
       "      <td>0</td>\n",
       "      <td>...</td>\n",
       "      <td>0</td>\n",
       "      <td>0</td>\n",
       "      <td>0</td>\n",
       "      <td>0</td>\n",
       "      <td>0</td>\n",
       "      <td>0</td>\n",
       "      <td>0</td>\n",
       "      <td>0</td>\n",
       "      <td>0</td>\n",
       "      <td>1</td>\n",
       "    </tr>\n",
       "    <tr>\n",
       "      <th>4519</th>\n",
       "      <td>28</td>\n",
       "      <td>1137</td>\n",
       "      <td>6</td>\n",
       "      <td>129</td>\n",
       "      <td>4</td>\n",
       "      <td>211</td>\n",
       "      <td>3</td>\n",
       "      <td>0</td>\n",
       "      <td>1</td>\n",
       "      <td>0</td>\n",
       "      <td>...</td>\n",
       "      <td>0</td>\n",
       "      <td>0</td>\n",
       "      <td>0</td>\n",
       "      <td>0</td>\n",
       "      <td>0</td>\n",
       "      <td>0</td>\n",
       "      <td>0</td>\n",
       "      <td>1</td>\n",
       "      <td>0</td>\n",
       "      <td>0</td>\n",
       "    </tr>\n",
       "    <tr>\n",
       "      <th>4520</th>\n",
       "      <td>44</td>\n",
       "      <td>1136</td>\n",
       "      <td>3</td>\n",
       "      <td>345</td>\n",
       "      <td>2</td>\n",
       "      <td>249</td>\n",
       "      <td>7</td>\n",
       "      <td>0</td>\n",
       "      <td>0</td>\n",
       "      <td>1</td>\n",
       "      <td>...</td>\n",
       "      <td>0</td>\n",
       "      <td>0</td>\n",
       "      <td>0</td>\n",
       "      <td>0</td>\n",
       "      <td>0</td>\n",
       "      <td>0</td>\n",
       "      <td>0</td>\n",
       "      <td>1</td>\n",
       "      <td>0</td>\n",
       "      <td>0</td>\n",
       "    </tr>\n",
       "  </tbody>\n",
       "</table>\n",
       "<p>4521 rows × 51 columns</p>\n",
       "</div>"
      ],
      "text/plain": [
       "      age  balance  day  duration  campaign  pdays  previous  job_admin.  \\\n",
       "0      30     1787   19        79         1     -1         0           0   \n",
       "1      33     4789   11       220         1    339         4           0   \n",
       "2      35     1350   16       185         1    330         1           0   \n",
       "3      30     1476    3       199         4     -1         0           0   \n",
       "4      59        0    5       226         1     -1         0           0   \n",
       "...   ...      ...  ...       ...       ...    ...       ...         ...   \n",
       "4516   33     -333   30       329         5     -1         0           0   \n",
       "4517   57    -3313    9       153         1     -1         0           0   \n",
       "4518   57      295   19       151        11     -1         0           0   \n",
       "4519   28     1137    6       129         4    211         3           0   \n",
       "4520   44     1136    3       345         2    249         7           0   \n",
       "\n",
       "      job_blue-collar  job_entrepreneur  ...  month_jun  month_mar  month_may  \\\n",
       "0                   0                 0  ...          0          0          0   \n",
       "1                   0                 0  ...          0          0          1   \n",
       "2                   0                 0  ...          0          0          0   \n",
       "3                   0                 0  ...          1          0          0   \n",
       "4                   1                 0  ...          0          0          1   \n",
       "...               ...               ...  ...        ...        ...        ...   \n",
       "4516                0                 0  ...          0          0          0   \n",
       "4517                0                 0  ...          0          0          1   \n",
       "4518                0                 0  ...          0          0          0   \n",
       "4519                1                 0  ...          0          0          0   \n",
       "4520                0                 1  ...          0          0          0   \n",
       "\n",
       "      month_nov  month_oct  month_sep  poutcome_failure  poutcome_other  \\\n",
       "0             0          1          0                 0               0   \n",
       "1             0          0          0                 1               0   \n",
       "2             0          0          0                 1               0   \n",
       "3             0          0          0                 0               0   \n",
       "4             0          0          0                 0               0   \n",
       "...         ...        ...        ...               ...             ...   \n",
       "4516          0          0          0                 0               0   \n",
       "4517          0          0          0                 0               0   \n",
       "4518          0          0          0                 0               0   \n",
       "4519          0          0          0                 0               1   \n",
       "4520          0          0          0                 0               1   \n",
       "\n",
       "      poutcome_success  poutcome_unknown  \n",
       "0                    0                 1  \n",
       "1                    0                 0  \n",
       "2                    0                 0  \n",
       "3                    0                 1  \n",
       "4                    0                 1  \n",
       "...                ...               ...  \n",
       "4516                 0                 1  \n",
       "4517                 0                 1  \n",
       "4518                 0                 1  \n",
       "4519                 0                 0  \n",
       "4520                 0                 0  \n",
       "\n",
       "[4521 rows x 51 columns]"
      ]
     },
     "execution_count": 22,
     "metadata": {},
     "output_type": "execute_result"
    }
   ],
   "source": [
    "X_train_bf = pd.get_dummies(X_train_bf)\n",
    "X_test_bf = pd.get_dummies(X_test_bf)\n",
    "X_test_bf"
   ]
  },
  {
   "cell_type": "markdown",
   "id": "d19074bf",
   "metadata": {},
   "source": [
    "# Modeling"
   ]
  },
  {
   "cell_type": "markdown",
   "id": "d13df29c",
   "metadata": {},
   "source": [
    "## Logistic Regression"
   ]
  },
  {
   "cell_type": "markdown",
   "id": "0a9ebcf8",
   "metadata": {},
   "source": [
    "Logistic Regression digunakan untuk memodelkan hubungan antara variabel input dan probabilitas berlangganan deposito jangka.\n",
    "Pertama-tama kita panggil model logistic regression, lalu kita latih data train yang telah dilakukan \n",
    "encoding"
   ]
  },
  {
   "cell_type": "code",
   "execution_count": 23,
   "id": "1a5bea2b",
   "metadata": {},
   "outputs": [
    {
     "data": {
      "text/html": [
       "<style>#sk-container-id-1 {color: black;background-color: white;}#sk-container-id-1 pre{padding: 0;}#sk-container-id-1 div.sk-toggleable {background-color: white;}#sk-container-id-1 label.sk-toggleable__label {cursor: pointer;display: block;width: 100%;margin-bottom: 0;padding: 0.3em;box-sizing: border-box;text-align: center;}#sk-container-id-1 label.sk-toggleable__label-arrow:before {content: \"▸\";float: left;margin-right: 0.25em;color: #696969;}#sk-container-id-1 label.sk-toggleable__label-arrow:hover:before {color: black;}#sk-container-id-1 div.sk-estimator:hover label.sk-toggleable__label-arrow:before {color: black;}#sk-container-id-1 div.sk-toggleable__content {max-height: 0;max-width: 0;overflow: hidden;text-align: left;background-color: #f0f8ff;}#sk-container-id-1 div.sk-toggleable__content pre {margin: 0.2em;color: black;border-radius: 0.25em;background-color: #f0f8ff;}#sk-container-id-1 input.sk-toggleable__control:checked~div.sk-toggleable__content {max-height: 200px;max-width: 100%;overflow: auto;}#sk-container-id-1 input.sk-toggleable__control:checked~label.sk-toggleable__label-arrow:before {content: \"▾\";}#sk-container-id-1 div.sk-estimator input.sk-toggleable__control:checked~label.sk-toggleable__label {background-color: #d4ebff;}#sk-container-id-1 div.sk-label input.sk-toggleable__control:checked~label.sk-toggleable__label {background-color: #d4ebff;}#sk-container-id-1 input.sk-hidden--visually {border: 0;clip: rect(1px 1px 1px 1px);clip: rect(1px, 1px, 1px, 1px);height: 1px;margin: -1px;overflow: hidden;padding: 0;position: absolute;width: 1px;}#sk-container-id-1 div.sk-estimator {font-family: monospace;background-color: #f0f8ff;border: 1px dotted black;border-radius: 0.25em;box-sizing: border-box;margin-bottom: 0.5em;}#sk-container-id-1 div.sk-estimator:hover {background-color: #d4ebff;}#sk-container-id-1 div.sk-parallel-item::after {content: \"\";width: 100%;border-bottom: 1px solid gray;flex-grow: 1;}#sk-container-id-1 div.sk-label:hover label.sk-toggleable__label {background-color: #d4ebff;}#sk-container-id-1 div.sk-serial::before {content: \"\";position: absolute;border-left: 1px solid gray;box-sizing: border-box;top: 0;bottom: 0;left: 50%;z-index: 0;}#sk-container-id-1 div.sk-serial {display: flex;flex-direction: column;align-items: center;background-color: white;padding-right: 0.2em;padding-left: 0.2em;position: relative;}#sk-container-id-1 div.sk-item {position: relative;z-index: 1;}#sk-container-id-1 div.sk-parallel {display: flex;align-items: stretch;justify-content: center;background-color: white;position: relative;}#sk-container-id-1 div.sk-item::before, #sk-container-id-1 div.sk-parallel-item::before {content: \"\";position: absolute;border-left: 1px solid gray;box-sizing: border-box;top: 0;bottom: 0;left: 50%;z-index: -1;}#sk-container-id-1 div.sk-parallel-item {display: flex;flex-direction: column;z-index: 1;position: relative;background-color: white;}#sk-container-id-1 div.sk-parallel-item:first-child::after {align-self: flex-end;width: 50%;}#sk-container-id-1 div.sk-parallel-item:last-child::after {align-self: flex-start;width: 50%;}#sk-container-id-1 div.sk-parallel-item:only-child::after {width: 0;}#sk-container-id-1 div.sk-dashed-wrapped {border: 1px dashed gray;margin: 0 0.4em 0.5em 0.4em;box-sizing: border-box;padding-bottom: 0.4em;background-color: white;}#sk-container-id-1 div.sk-label label {font-family: monospace;font-weight: bold;display: inline-block;line-height: 1.2em;}#sk-container-id-1 div.sk-label-container {text-align: center;}#sk-container-id-1 div.sk-container {/* jupyter's `normalize.less` sets `[hidden] { display: none; }` but bootstrap.min.css set `[hidden] { display: none !important; }` so we also need the `!important` here to be able to override the default hidden behavior on the sphinx rendered scikit-learn.org. See: https://github.com/scikit-learn/scikit-learn/issues/21755 */display: inline-block !important;position: relative;}#sk-container-id-1 div.sk-text-repr-fallback {display: none;}</style><div id=\"sk-container-id-1\" class=\"sk-top-container\"><div class=\"sk-text-repr-fallback\"><pre>LogisticRegression()</pre><b>In a Jupyter environment, please rerun this cell to show the HTML representation or trust the notebook. <br />On GitHub, the HTML representation is unable to render, please try loading this page with nbviewer.org.</b></div><div class=\"sk-container\" hidden><div class=\"sk-item\"><div class=\"sk-estimator sk-toggleable\"><input class=\"sk-toggleable__control sk-hidden--visually\" id=\"sk-estimator-id-1\" type=\"checkbox\" checked><label for=\"sk-estimator-id-1\" class=\"sk-toggleable__label sk-toggleable__label-arrow\">LogisticRegression</label><div class=\"sk-toggleable__content\"><pre>LogisticRegression()</pre></div></div></div></div></div>"
      ],
      "text/plain": [
       "LogisticRegression()"
      ]
     },
     "execution_count": 23,
     "metadata": {},
     "output_type": "execute_result"
    }
   ],
   "source": [
    "# Membuat objek model Logistic Regression\n",
    "model = LogisticRegression()\n",
    "\n",
    "# Melatih model dengan data train yang sudah dikodekan\n",
    "model.fit(X_train_encoded, y_train_bad)"
   ]
  },
  {
   "cell_type": "markdown",
   "id": "c9949f45",
   "metadata": {},
   "source": [
    "Lalu kita prediksi menggunakan data test yang telah disediakan"
   ]
  },
  {
   "cell_type": "code",
   "execution_count": 24,
   "id": "abecdec4",
   "metadata": {
    "scrolled": true
   },
   "outputs": [
    {
     "name": "stdout",
     "output_type": "stream",
     "text": [
      "Akurasi: 91.31%\n"
     ]
    }
   ],
   "source": [
    "#Memprediksi label untuk data test yang sudah dikodekan\n",
    "y_pred = model.predict(X_test_encoded)\n",
    "\n",
    "# Menghitung akurasi\n",
    "accuracy = accuracy_score(y_test_bad, y_pred)\n",
    "print(\"Akurasi: {:.2f}%\".format(accuracy * 100))"
   ]
  },
  {
   "cell_type": "code",
   "execution_count": 25,
   "id": "93d98f15",
   "metadata": {},
   "outputs": [
    {
     "data": {
      "text/plain": [
       "array(['no', 'no', 'no', ..., 'no', 'no', 'no'], dtype=object)"
      ]
     },
     "execution_count": 25,
     "metadata": {},
     "output_type": "execute_result"
    }
   ],
   "source": [
    "y_pred"
   ]
  },
  {
   "cell_type": "code",
   "execution_count": 26,
   "id": "227e83ce",
   "metadata": {},
   "outputs": [
    {
     "name": "stdout",
     "output_type": "stream",
     "text": [
      "Confusion Matrix:\n",
      "[[3586   82]\n",
      " [ 276  175]]\n"
     ]
    }
   ],
   "source": [
    "cm = confusion_matrix(y_test_bad, y_pred)\n",
    "print(\"Confusion Matrix:\")\n",
    "print(cm)"
   ]
  },
  {
   "cell_type": "code",
   "execution_count": 27,
   "id": "6a7880f2",
   "metadata": {},
   "outputs": [
    {
     "name": "stdout",
     "output_type": "stream",
     "text": [
      "Confusion Matrix:\n",
      "[[3586   82]\n",
      " [ 276  175]]\n",
      "Accuracy: 91.31%\n",
      "Precision: 92.85%\n",
      "Recall: 97.76%\n",
      "F1-score: 95.25%\n"
     ]
    }
   ],
   "source": [
    "accuracy = accuracy_score(y_test_bad, y_pred)\n",
    "precision = precision_score(y_test_bad, y_pred, pos_label='no')\n",
    "recall = recall_score(y_test_bad, y_pred, pos_label='no')\n",
    "f1 = f1_score(y_test_bad, y_pred, pos_label='no')\n",
    "\n",
    "# Menampilkan hasil metrik evaluasi\n",
    "print(\"Confusion Matrix:\")\n",
    "print(cm)\n",
    "print(\"Accuracy: {:.2f}%\".format(accuracy * 100))\n",
    "print(\"Precision: {:.2f}%\".format(precision * 100))\n",
    "print(\"Recall: {:.2f}%\".format(recall * 100))\n",
    "print(\"F1-score: {:.2f}%\".format(f1 * 100))"
   ]
  },
  {
   "cell_type": "markdown",
   "id": "4b2ac867",
   "metadata": {},
   "source": [
    "Dari hasil confusion matrix yang diperoleh dengan menggunakan logistic regression, dapat diinterpretasikan sebagai berikut:\n",
    "\n",
    "* True Positive (TP): Terdapat 175 data yang diprediksi sebagai positif dan memang benar-benar positif.\n",
    "* True Negative (TN): Terdapat 3586 data yang diprediksi sebagai negatif dan memang benar-benar negatif.\n",
    "* False Positive (FP): Terdapat 276 data yang diprediksi sebagai positif, tetapi sebenarnya negatif (kesalahan prediksi positif palsu).\n",
    "* False Negative (FN): Terdapat 82 data yang diprediksi sebagai negatif, tetapi sebenarnya positif (kesalahan prediksi negatif palsu)."
   ]
  },
  {
   "cell_type": "code",
   "execution_count": 28,
   "id": "843523e6",
   "metadata": {},
   "outputs": [
    {
     "data": {
      "text/html": [
       "<style>#sk-container-id-2 {color: black;background-color: white;}#sk-container-id-2 pre{padding: 0;}#sk-container-id-2 div.sk-toggleable {background-color: white;}#sk-container-id-2 label.sk-toggleable__label {cursor: pointer;display: block;width: 100%;margin-bottom: 0;padding: 0.3em;box-sizing: border-box;text-align: center;}#sk-container-id-2 label.sk-toggleable__label-arrow:before {content: \"▸\";float: left;margin-right: 0.25em;color: #696969;}#sk-container-id-2 label.sk-toggleable__label-arrow:hover:before {color: black;}#sk-container-id-2 div.sk-estimator:hover label.sk-toggleable__label-arrow:before {color: black;}#sk-container-id-2 div.sk-toggleable__content {max-height: 0;max-width: 0;overflow: hidden;text-align: left;background-color: #f0f8ff;}#sk-container-id-2 div.sk-toggleable__content pre {margin: 0.2em;color: black;border-radius: 0.25em;background-color: #f0f8ff;}#sk-container-id-2 input.sk-toggleable__control:checked~div.sk-toggleable__content {max-height: 200px;max-width: 100%;overflow: auto;}#sk-container-id-2 input.sk-toggleable__control:checked~label.sk-toggleable__label-arrow:before {content: \"▾\";}#sk-container-id-2 div.sk-estimator input.sk-toggleable__control:checked~label.sk-toggleable__label {background-color: #d4ebff;}#sk-container-id-2 div.sk-label input.sk-toggleable__control:checked~label.sk-toggleable__label {background-color: #d4ebff;}#sk-container-id-2 input.sk-hidden--visually {border: 0;clip: rect(1px 1px 1px 1px);clip: rect(1px, 1px, 1px, 1px);height: 1px;margin: -1px;overflow: hidden;padding: 0;position: absolute;width: 1px;}#sk-container-id-2 div.sk-estimator {font-family: monospace;background-color: #f0f8ff;border: 1px dotted black;border-radius: 0.25em;box-sizing: border-box;margin-bottom: 0.5em;}#sk-container-id-2 div.sk-estimator:hover {background-color: #d4ebff;}#sk-container-id-2 div.sk-parallel-item::after {content: \"\";width: 100%;border-bottom: 1px solid gray;flex-grow: 1;}#sk-container-id-2 div.sk-label:hover label.sk-toggleable__label {background-color: #d4ebff;}#sk-container-id-2 div.sk-serial::before {content: \"\";position: absolute;border-left: 1px solid gray;box-sizing: border-box;top: 0;bottom: 0;left: 50%;z-index: 0;}#sk-container-id-2 div.sk-serial {display: flex;flex-direction: column;align-items: center;background-color: white;padding-right: 0.2em;padding-left: 0.2em;position: relative;}#sk-container-id-2 div.sk-item {position: relative;z-index: 1;}#sk-container-id-2 div.sk-parallel {display: flex;align-items: stretch;justify-content: center;background-color: white;position: relative;}#sk-container-id-2 div.sk-item::before, #sk-container-id-2 div.sk-parallel-item::before {content: \"\";position: absolute;border-left: 1px solid gray;box-sizing: border-box;top: 0;bottom: 0;left: 50%;z-index: -1;}#sk-container-id-2 div.sk-parallel-item {display: flex;flex-direction: column;z-index: 1;position: relative;background-color: white;}#sk-container-id-2 div.sk-parallel-item:first-child::after {align-self: flex-end;width: 50%;}#sk-container-id-2 div.sk-parallel-item:last-child::after {align-self: flex-start;width: 50%;}#sk-container-id-2 div.sk-parallel-item:only-child::after {width: 0;}#sk-container-id-2 div.sk-dashed-wrapped {border: 1px dashed gray;margin: 0 0.4em 0.5em 0.4em;box-sizing: border-box;padding-bottom: 0.4em;background-color: white;}#sk-container-id-2 div.sk-label label {font-family: monospace;font-weight: bold;display: inline-block;line-height: 1.2em;}#sk-container-id-2 div.sk-label-container {text-align: center;}#sk-container-id-2 div.sk-container {/* jupyter's `normalize.less` sets `[hidden] { display: none; }` but bootstrap.min.css set `[hidden] { display: none !important; }` so we also need the `!important` here to be able to override the default hidden behavior on the sphinx rendered scikit-learn.org. See: https://github.com/scikit-learn/scikit-learn/issues/21755 */display: inline-block !important;position: relative;}#sk-container-id-2 div.sk-text-repr-fallback {display: none;}</style><div id=\"sk-container-id-2\" class=\"sk-top-container\"><div class=\"sk-text-repr-fallback\"><pre>LogisticRegression()</pre><b>In a Jupyter environment, please rerun this cell to show the HTML representation or trust the notebook. <br />On GitHub, the HTML representation is unable to render, please try loading this page with nbviewer.org.</b></div><div class=\"sk-container\" hidden><div class=\"sk-item\"><div class=\"sk-estimator sk-toggleable\"><input class=\"sk-toggleable__control sk-hidden--visually\" id=\"sk-estimator-id-2\" type=\"checkbox\" checked><label for=\"sk-estimator-id-2\" class=\"sk-toggleable__label sk-toggleable__label-arrow\">LogisticRegression</label><div class=\"sk-toggleable__content\"><pre>LogisticRegression()</pre></div></div></div></div></div>"
      ],
      "text/plain": [
       "LogisticRegression()"
      ]
     },
     "execution_count": 28,
     "metadata": {},
     "output_type": "execute_result"
    }
   ],
   "source": [
    "# Membuat objek model Logistic Regression\n",
    "model = LogisticRegression()\n",
    "\n",
    "# Melatih model dengan data train\n",
    "model.fit(X_train_bf, y_train_bf)\n",
    "\n"
   ]
  },
  {
   "cell_type": "code",
   "execution_count": 29,
   "id": "6998bbeb",
   "metadata": {},
   "outputs": [
    {
     "name": "stdout",
     "output_type": "stream",
     "text": [
      "Akurasi: 88.98%\n"
     ]
    }
   ],
   "source": [
    "# Memprediksi label untuk data test\n",
    "y_pred = model.predict(X_test_bf)\n",
    "\n",
    "# Menghitung akurasi\n",
    "accuracy = accuracy_score(y_test_bf, y_pred)\n",
    "print(\"Akurasi: {:.2f}%\".format(accuracy * 100))"
   ]
  },
  {
   "cell_type": "code",
   "execution_count": 30,
   "id": "bc277945",
   "metadata": {},
   "outputs": [
    {
     "name": "stdout",
     "output_type": "stream",
     "text": [
      "Confusion Matrix:\n",
      "[[3922   78]\n",
      " [ 420  101]]\n"
     ]
    }
   ],
   "source": [
    "cm = confusion_matrix(y_test_bf, y_pred)\n",
    "print(\"Confusion Matrix:\")\n",
    "print(cm)"
   ]
  },
  {
   "cell_type": "code",
   "execution_count": 31,
   "id": "a009b23a",
   "metadata": {},
   "outputs": [
    {
     "name": "stdout",
     "output_type": "stream",
     "text": [
      "Confusion Matrix:\n",
      "[[3922   78]\n",
      " [ 420  101]]\n",
      "Accuracy: 88.98%\n",
      "Precision: 90.33%\n",
      "Recall: 98.05%\n",
      "F1-score: 94.03%\n"
     ]
    }
   ],
   "source": [
    "accuracy = accuracy_score(y_test_bf, y_pred)\n",
    "precision = precision_score(y_test_bf, y_pred, pos_label='no')\n",
    "recall = recall_score(y_test_bf, y_pred, pos_label='no')\n",
    "f1 = f1_score(y_test_bf, y_pred, pos_label='no')\n",
    "\n",
    "# Menampilkan hasil metrik evaluasi\n",
    "print(\"Confusion Matrix:\")\n",
    "print(cm)\n",
    "print(\"Accuracy: {:.2f}%\".format(accuracy * 100))\n",
    "print(\"Precision: {:.2f}%\".format(precision * 100))\n",
    "print(\"Recall: {:.2f}%\".format(recall * 100))\n",
    "print(\"F1-score: {:.2f}%\".format(f1 * 100))"
   ]
  },
  {
   "cell_type": "markdown",
   "id": "838adba2",
   "metadata": {},
   "source": [
    "Dari hasil confusion matrix yang diperoleh dengan menggunakan logistic regression, dapat diinterpretasikan sebagai berikut:\n",
    "\n",
    "* True Positive (TP): Terdapat 101 data yang diprediksi sebagai positif dan memang benar-benar positif.\n",
    "* True Negative (TN): Terdapat 3922 data yang diprediksi sebagai negatif dan memang benar-benar negatif.\n",
    "* False Positive (FP): Terdapat 420 data yang diprediksi sebagai positif, tetapi sebenarnya negatif (kesalahan prediksi positif palsu).\n",
    "* False Negative (FN): Terdapat 78 data yang diprediksi sebagai negatif, tetapi sebenarnya positif (kesalahan prediksi negatif palsu)."
   ]
  },
  {
   "cell_type": "markdown",
   "id": "ef1811dc",
   "metadata": {},
   "source": [
    "## KNN"
   ]
  },
  {
   "cell_type": "markdown",
   "id": "ba464477",
   "metadata": {},
   "source": [
    "Selanjutnya yang saya gunakan adalah model KNN dimana model ini menggunakan jarak antara titik data untuk memprediksi label kelas.Pertama-tama seperti biasa kita panggil model kita dan n_neighborsnya kita pakai 5, lalu kita latih model kita"
   ]
  },
  {
   "cell_type": "code",
   "execution_count": 32,
   "id": "ac006ca6",
   "metadata": {},
   "outputs": [
    {
     "name": "stdout",
     "output_type": "stream",
     "text": [
      "Akurasi: 85.72%\n"
     ]
    }
   ],
   "source": [
    "model = KNeighborsClassifier(n_neighbors=5)\n",
    "\n",
    "# Melatih model dengan data train yang sudah dikodekan\n",
    "model.fit(X_train_encoded, y_train_bad)\n",
    "\n",
    "# Memprediksi label untuk data test yang sudah dikodekan\n",
    "y_pred = model.predict(X_test_encoded)\n",
    "\n",
    "# Menghitung akurasi\n",
    "accuracy = accuracy_score(y_test_bad, y_pred)\n",
    "print(\"Akurasi: {:.2f}%\".format(accuracy * 100))"
   ]
  },
  {
   "cell_type": "code",
   "execution_count": 33,
   "id": "c7fb5aff",
   "metadata": {},
   "outputs": [
    {
     "name": "stdout",
     "output_type": "stream",
     "text": [
      "Confusion Matrix:\n",
      "[[3275  393]\n",
      " [ 195  256]]\n"
     ]
    }
   ],
   "source": [
    "cm = confusion_matrix(y_test_bad, y_pred)\n",
    "print(\"Confusion Matrix:\")\n",
    "print(cm)"
   ]
  },
  {
   "cell_type": "code",
   "execution_count": 34,
   "id": "5d0a055b",
   "metadata": {
    "scrolled": true
   },
   "outputs": [
    {
     "name": "stdout",
     "output_type": "stream",
     "text": [
      "Confusion Matrix:\n",
      "[[3275  393]\n",
      " [ 195  256]]\n",
      "Accuracy: 85.72%\n",
      "Precision: 94.38%\n",
      "Recall: 89.29%\n",
      "F1-score: 91.76%\n"
     ]
    }
   ],
   "source": [
    "accuracy = accuracy_score(y_test_bad, y_pred)\n",
    "precision = precision_score(y_test_bad, y_pred, pos_label='no')\n",
    "recall = recall_score(y_test_bad, y_pred, pos_label='no')\n",
    "f1 = f1_score(y_test_bad, y_pred, pos_label='no')\n",
    "\n",
    "# Menampilkan hasil metrik evaluasi\n",
    "print(\"Confusion Matrix:\")\n",
    "print(cm)\n",
    "print(\"Accuracy: {:.2f}%\".format(accuracy * 100))\n",
    "print(\"Precision: {:.2f}%\".format(precision * 100))\n",
    "print(\"Recall: {:.2f}%\".format(recall * 100))\n",
    "print(\"F1-score: {:.2f}%\".format(f1 * 100))"
   ]
  },
  {
   "cell_type": "markdown",
   "id": "ac522205",
   "metadata": {},
   "source": [
    "Dari hasil confusion matrix yang diperoleh dengan menggunakan logistic regression, dapat diinterpretasikan sebagai berikut:\n",
    "\n",
    "* True Positive (TP): Terdapat 256 data yang diprediksi sebagai positif dan memang benar-benar positif.\n",
    "* True Negative (TN): Terdapat 3275 data yang diprediksi sebagai negatif dan memang benar-benar negatif.\n",
    "* False Positive (FP): Terdapat 195 data yang diprediksi sebagai positif, tetapi sebenarnya negatif (kesalahan prediksi positif palsu).\n",
    "* False Negative (FN): Terdapat 393 data yang diprediksi sebagai negatif, tetapi sebenarnya positif (kesalahan prediksi negatif palsu)."
   ]
  },
  {
   "cell_type": "code",
   "execution_count": 35,
   "id": "4e50cc03",
   "metadata": {},
   "outputs": [
    {
     "name": "stdout",
     "output_type": "stream",
     "text": [
      "Akurasi: 91.24%\n"
     ]
    }
   ],
   "source": [
    "model = KNeighborsClassifier(n_neighbors=5)\n",
    "\n",
    "# Melatih model dengan data train yang sudah dikodekan\n",
    "model.fit(X_train_bf, y_train_bf)\n",
    "\n",
    "# Memprediksi label untuk data test yang sudah dikodekan\n",
    "y_pred = model.predict(X_test_bf)\n",
    "\n",
    "# Menghitung akurasi\n",
    "accuracy = accuracy_score(y_test_bf, y_pred)\n",
    "print(\"Akurasi: {:.2f}%\".format(accuracy * 100))"
   ]
  },
  {
   "cell_type": "code",
   "execution_count": 36,
   "id": "1b84d7e3",
   "metadata": {},
   "outputs": [
    {
     "name": "stdout",
     "output_type": "stream",
     "text": [
      "Confusion Matrix:\n",
      "[[3899  101]\n",
      " [ 295  226]]\n"
     ]
    }
   ],
   "source": [
    "cm = confusion_matrix(y_test_bf, y_pred)\n",
    "print(\"Confusion Matrix:\")\n",
    "print(cm)"
   ]
  },
  {
   "cell_type": "code",
   "execution_count": 37,
   "id": "e6a6b56c",
   "metadata": {},
   "outputs": [
    {
     "name": "stdout",
     "output_type": "stream",
     "text": [
      "Confusion Matrix:\n",
      "[[3899  101]\n",
      " [ 295  226]]\n",
      "Accuracy: 91.24%\n",
      "Precision: 92.97%\n",
      "Recall: 97.47%\n",
      "F1-score: 95.17%\n"
     ]
    }
   ],
   "source": [
    "accuracy = accuracy_score(y_test_bf, y_pred)\n",
    "precision = precision_score(y_test_bf, y_pred, pos_label='no')\n",
    "recall = recall_score(y_test_bf, y_pred, pos_label='no')\n",
    "f1 = f1_score(y_test_bf, y_pred, pos_label='no')\n",
    "\n",
    "# Menampilkan hasil metrik evaluasi\n",
    "print(\"Confusion Matrix:\")\n",
    "print(cm)\n",
    "print(\"Accuracy: {:.2f}%\".format(accuracy * 100))\n",
    "print(\"Precision: {:.2f}%\".format(precision * 100))\n",
    "print(\"Recall: {:.2f}%\".format(recall * 100))\n",
    "print(\"F1-score: {:.2f}%\".format(f1 * 100))"
   ]
  },
  {
   "cell_type": "markdown",
   "id": "40ac7da4",
   "metadata": {},
   "source": [
    "Dari hasil confusion matrix yang diperoleh dengan menggunakan logistic regression, dapat diinterpretasikan sebagai berikut:\n",
    "\n",
    "* True Positive (TP): Terdapat 226 data yang diprediksi sebagai positif dan memang benar-benar positif.\n",
    "* True Negative (TN): Terdapat 3899 data yang diprediksi sebagai negatif dan memang benar-benar negatif.\n",
    "* False Positive (FP): Terdapat 295 data yang diprediksi sebagai positif, tetapi sebenarnya negatif (kesalahan prediksi positif palsu).\n",
    "* False Negative (FN): Terdapat 101 data yang diprediksi sebagai negatif, tetapi sebenarnya positif (kesalahan prediksi negatif palsu)."
   ]
  },
  {
   "cell_type": "markdown",
   "id": "6e57c452",
   "metadata": {},
   "source": [
    "## SVM"
   ]
  },
  {
   "cell_type": "markdown",
   "id": "1c6dbb9a",
   "metadata": {},
   "source": [
    "Selanjutnya kita gunakan SVM, Mencari hyperplane optimal yang memisahkan data ke dalam kelas yang berbeda, kita lakukan pemanggilan model dan kita latih model kita"
   ]
  },
  {
   "cell_type": "code",
   "execution_count": 38,
   "id": "89319620",
   "metadata": {},
   "outputs": [
    {
     "name": "stdout",
     "output_type": "stream",
     "text": [
      "Akurasi: 91.11%\n"
     ]
    }
   ],
   "source": [
    "# Membuat objek SVM\n",
    "model = SVC()\n",
    "\n",
    "# Melatih model dengan data latih\n",
    "model.fit(X_train_encoded, y_train_bad)\n",
    "\n",
    "# Melakukan prediksi pada data uji\n",
    "y_pred = model.predict(X_test_encoded)\n",
    "\n",
    "accuracy = accuracy_score(y_test_bad, y_pred)\n",
    "print(\"Akurasi: {:.2f}%\".format(accuracy * 100))"
   ]
  },
  {
   "cell_type": "code",
   "execution_count": 39,
   "id": "8f788f59",
   "metadata": {},
   "outputs": [
    {
     "name": "stdout",
     "output_type": "stream",
     "text": [
      "Confusion Matrix:\n",
      "[[3575   93]\n",
      " [ 273  178]]\n"
     ]
    }
   ],
   "source": [
    "cm = confusion_matrix(y_test_bad, y_pred)\n",
    "print(\"Confusion Matrix:\")\n",
    "print(cm)"
   ]
  },
  {
   "cell_type": "code",
   "execution_count": 40,
   "id": "cbc7b234",
   "metadata": {},
   "outputs": [
    {
     "name": "stdout",
     "output_type": "stream",
     "text": [
      "Confusion Matrix:\n",
      "[[3575   93]\n",
      " [ 273  178]]\n",
      "Accuracy: 91.11%\n",
      "Precision: 92.91%\n",
      "Recall: 97.46%\n",
      "F1-score: 95.13%\n"
     ]
    }
   ],
   "source": [
    "accuracy = accuracy_score(y_test_bad, y_pred)\n",
    "precision = precision_score(y_test_bad, y_pred, pos_label='no')\n",
    "recall = recall_score(y_test_bad, y_pred, pos_label='no')\n",
    "f1 = f1_score(y_test_bad, y_pred, pos_label='no')\n",
    "\n",
    "# Menampilkan hasil metrik evaluasi\n",
    "print(\"Confusion Matrix:\")\n",
    "print(cm)\n",
    "print(\"Accuracy: {:.2f}%\".format(accuracy * 100))\n",
    "print(\"Precision: {:.2f}%\".format(precision * 100))\n",
    "print(\"Recall: {:.2f}%\".format(recall * 100))\n",
    "print(\"F1-score: {:.2f}%\".format(f1 * 100))"
   ]
  },
  {
   "cell_type": "markdown",
   "id": "68fddf53",
   "metadata": {},
   "source": [
    "Dari hasil confusion matrix yang diperoleh dengan menggunakan logistic regression, dapat diinterpretasikan sebagai berikut:\n",
    "\n",
    "* True Positive (TP): Terdapat 178 data yang diprediksi sebagai positif dan memang benar-benar positif.\n",
    "* True Negative (TN): Terdapat 3575 data yang diprediksi sebagai negatif dan memang benar-benar negatif.\n",
    "* False Positive (FP): Terdapat 273 data yang diprediksi sebagai positif, tetapi sebenarnya negatif (kesalahan prediksi positif palsu).\n",
    "* False Negative (FN): Terdapat 93  data yang diprediksi sebagai negatif, tetapi sebenarnya positif (kesalahan prediksi negatif palsu)."
   ]
  },
  {
   "cell_type": "code",
   "execution_count": 41,
   "id": "5fb8d821",
   "metadata": {},
   "outputs": [
    {
     "name": "stdout",
     "output_type": "stream",
     "text": [
      "Akurasi: 88.52%\n"
     ]
    }
   ],
   "source": [
    "# Membuat objek SVM\n",
    "model = SVC()\n",
    "\n",
    "# Melatih model dengan data latih\n",
    "model.fit(X_train_bf, y_train_bf)\n",
    "\n",
    "# Melakukan prediksi pada data uji\n",
    "y_pred = model.predict(X_test_bf)\n",
    "\n",
    "# Menghitung akurasi\n",
    "accuracy = accuracy_score(y_test_bf, y_pred)\n",
    "print(\"Akurasi: {:.2f}%\".format(accuracy * 100))"
   ]
  },
  {
   "cell_type": "code",
   "execution_count": 42,
   "id": "ad4492c8",
   "metadata": {},
   "outputs": [
    {
     "name": "stdout",
     "output_type": "stream",
     "text": [
      "Confusion Matrix:\n",
      "[[3998    2]\n",
      " [ 517    4]]\n"
     ]
    }
   ],
   "source": [
    "cm = confusion_matrix(y_test_bf, y_pred)\n",
    "print(\"Confusion Matrix:\")\n",
    "print(cm)"
   ]
  },
  {
   "cell_type": "code",
   "execution_count": 43,
   "id": "01324f11",
   "metadata": {},
   "outputs": [
    {
     "name": "stdout",
     "output_type": "stream",
     "text": [
      "Confusion Matrix:\n",
      "[[3998    2]\n",
      " [ 517    4]]\n",
      "Accuracy: 88.52%\n",
      "Precision: 88.55%\n",
      "Recall: 99.95%\n",
      "F1-score: 93.90%\n"
     ]
    }
   ],
   "source": [
    "accuracy = accuracy_score(y_test_bf, y_pred)\n",
    "precision = precision_score(y_test_bf, y_pred, pos_label='no')\n",
    "recall = recall_score(y_test_bf, y_pred, pos_label='no')\n",
    "f1 = f1_score(y_test_bf, y_pred, pos_label='no')\n",
    "\n",
    "# Menampilkan hasil metrik evaluasi\n",
    "print(\"Confusion Matrix:\")\n",
    "print(cm)\n",
    "print(\"Accuracy: {:.2f}%\".format(accuracy * 100))\n",
    "print(\"Precision: {:.2f}%\".format(precision * 100))\n",
    "print(\"Recall: {:.2f}%\".format(recall * 100))\n",
    "print(\"F1-score: {:.2f}%\".format(f1 * 100))"
   ]
  },
  {
   "cell_type": "markdown",
   "id": "ee50a91e",
   "metadata": {},
   "source": [
    "Dari hasil confusion matrix yang diperoleh dengan menggunakan logistic regression, dapat diinterpretasikan sebagai berikut:\n",
    "\n",
    "* True Positive (TP): Terdapat 4 data yang diprediksi sebagai positif dan memang benar-benar positif.\n",
    "* True Negative (TN): Terdapat 3998 data yang diprediksi sebagai negatif dan memang benar-benar negatif.\n",
    "* False Positive (FP): Terdapat 517 data yang diprediksi sebagai positif, tetapi sebenarnya negatif (kesalahan prediksi positif palsu).\n",
    "* False Negative (FN): Terdapat  2 data yang diprediksi sebagai negatif, tetapi sebenarnya positif (kesalahan prediksi negatif palsu)."
   ]
  },
  {
   "cell_type": "markdown",
   "id": "b181c424",
   "metadata": {},
   "source": [
    "## Decision Tree"
   ]
  },
  {
   "cell_type": "markdown",
   "id": "0bb1c342",
   "metadata": {},
   "source": [
    "Selanjutnya mari kita menggunakan Decision Tree, algoritma ini menggunakan pohon keputusan dengan membagi data berdasarkan fitur-fitur yang relevan."
   ]
  },
  {
   "cell_type": "code",
   "execution_count": 44,
   "id": "b5f7ea1e",
   "metadata": {},
   "outputs": [
    {
     "name": "stdout",
     "output_type": "stream",
     "text": [
      "Akurasi: 89.17%\n"
     ]
    }
   ],
   "source": [
    "\n",
    "model = DecisionTreeClassifier()\n",
    "\n",
    "# Melatih model dengan data latih\n",
    "model.fit(X_train_encoded, y_train_bad)\n",
    "\n",
    "# Melakukan prediksi pada data uji\n",
    "y_pred = model.predict(X_test_encoded)\n",
    "\n",
    "accuracy = accuracy_score(y_test_bad, y_pred)\n",
    "print(\"Akurasi: {:.2f}%\".format(accuracy * 100))"
   ]
  },
  {
   "cell_type": "code",
   "execution_count": 45,
   "id": "9932bcbe",
   "metadata": {},
   "outputs": [
    {
     "name": "stdout",
     "output_type": "stream",
     "text": [
      "Confusion Matrix:\n",
      "[[3386  282]\n",
      " [ 164  287]]\n"
     ]
    }
   ],
   "source": [
    "cm = confusion_matrix(y_test_bad, y_pred)\n",
    "print(\"Confusion Matrix:\")\n",
    "print(cm)"
   ]
  },
  {
   "cell_type": "code",
   "execution_count": 46,
   "id": "829f8e94",
   "metadata": {},
   "outputs": [
    {
     "name": "stdout",
     "output_type": "stream",
     "text": [
      "Confusion Matrix:\n",
      "[[3386  282]\n",
      " [ 164  287]]\n",
      "Accuracy: 89.17%\n",
      "Precision: 95.38%\n",
      "Recall: 92.31%\n",
      "F1-score: 93.82%\n"
     ]
    }
   ],
   "source": [
    "accuracy = accuracy_score(y_test_bad, y_pred)\n",
    "precision = precision_score(y_test_bad, y_pred, pos_label='no')\n",
    "recall = recall_score(y_test_bad, y_pred, pos_label='no')\n",
    "f1 = f1_score(y_test_bad, y_pred, pos_label='no')\n",
    "\n",
    "# Menampilkan hasil metrik evaluasi\n",
    "print(\"Confusion Matrix:\")\n",
    "print(cm)\n",
    "print(\"Accuracy: {:.2f}%\".format(accuracy * 100))\n",
    "print(\"Precision: {:.2f}%\".format(precision * 100))\n",
    "print(\"Recall: {:.2f}%\".format(recall * 100))\n",
    "print(\"F1-score: {:.2f}%\".format(f1 * 100))"
   ]
  },
  {
   "cell_type": "markdown",
   "id": "02ff2f8c",
   "metadata": {},
   "source": [
    "Dari hasil confusion matrix yang diperoleh dengan menggunakan logistic regression, dapat diinterpretasikan sebagai berikut:\n",
    "\n",
    "* True Positive (TP): Terdapat 295 data yang diprediksi sebagai positif dan memang benar-benar positif.\n",
    "* True Negative (TN): Terdapat 3374 data yang diprediksi sebagai negatif dan memang benar-benar negatif.\n",
    "* False Positive (FP): Terdapat 156 data yang diprediksi sebagai positif, tetapi sebenarnya negatif (kesalahan prediksi positif palsu).\n",
    "* False Negative (FN): Terdapat 294 data yang diprediksi sebagai negatif, tetapi sebenarnya positif (kesalahan prediksi negatif palsu)."
   ]
  },
  {
   "cell_type": "code",
   "execution_count": 47,
   "id": "9b8d34ca",
   "metadata": {},
   "outputs": [
    {
     "name": "stdout",
     "output_type": "stream",
     "text": [
      "Akurasi: 100.00%\n"
     ]
    }
   ],
   "source": [
    "\n",
    "model = DecisionTreeClassifier()\n",
    "\n",
    "# Melatih model dengan data latih\n",
    "model.fit(X_train_bf, y_train_bf)\n",
    "\n",
    "# Melakukan prediksi pada data uji\n",
    "y_pred = model.predict(X_test_bf)\n",
    "\n",
    "# Menghitung akurasi\n",
    "accuracy = accuracy_score(y_test_bf, y_pred)\n",
    "print(\"Akurasi: {:.2f}%\".format(accuracy * 100))"
   ]
  },
  {
   "cell_type": "code",
   "execution_count": 48,
   "id": "a8d5daea",
   "metadata": {},
   "outputs": [
    {
     "name": "stdout",
     "output_type": "stream",
     "text": [
      "Confusion Matrix:\n",
      "[[4000    0]\n",
      " [   0  521]]\n"
     ]
    }
   ],
   "source": [
    "cm = confusion_matrix(y_test_bf, y_pred)\n",
    "print(\"Confusion Matrix:\")\n",
    "print(cm)"
   ]
  },
  {
   "cell_type": "code",
   "execution_count": 49,
   "id": "cce09b73",
   "metadata": {},
   "outputs": [
    {
     "name": "stdout",
     "output_type": "stream",
     "text": [
      "Confusion Matrix:\n",
      "[[4000    0]\n",
      " [   0  521]]\n",
      "Accuracy: 100.00%\n",
      "Precision: 100.00%\n",
      "Recall: 100.00%\n",
      "F1-score: 100.00%\n"
     ]
    }
   ],
   "source": [
    "accuracy = accuracy_score(y_test_bf, y_pred)\n",
    "precision = precision_score(y_test_bf, y_pred, pos_label='no')\n",
    "recall = recall_score(y_test_bf, y_pred, pos_label='no')\n",
    "f1 = f1_score(y_test_bf, y_pred, pos_label='no')\n",
    "\n",
    "# Menampilkan hasil metrik evaluasi\n",
    "print(\"Confusion Matrix:\")\n",
    "print(cm)\n",
    "print(\"Accuracy: {:.2f}%\".format(accuracy * 100))\n",
    "print(\"Precision: {:.2f}%\".format(precision * 100))\n",
    "print(\"Recall: {:.2f}%\".format(recall * 100))\n",
    "print(\"F1-score: {:.2f}%\".format(f1 * 100))"
   ]
  },
  {
   "cell_type": "markdown",
   "id": "2c9df1fc",
   "metadata": {},
   "source": [
    "Dari hasil confusion matrix yang diperoleh dengan menggunakan logistic regression, dapat diinterpretasikan sebagai berikut:\n",
    "\n",
    "* True Positive (TP): Terdapat 521 data yang diprediksi sebagai positif dan memang benar-benar positif.\n",
    "* True Negative (TN): Terdapat 4000 data yang diprediksi sebagai negatif dan memang benar-benar negatif.\n",
    "* False Positive (FP): Terdapat 0 data yang diprediksi sebagai positif, tetapi sebenarnya negatif (kesalahan prediksi positif palsu).\n",
    "* False Negative (FN): Terdapat 0 data yang diprediksi sebagai negatif, tetapi sebenarnya positif (kesalahan prediksi negatif palsu)."
   ]
  },
  {
   "cell_type": "markdown",
   "id": "08b9cb73",
   "metadata": {},
   "source": [
    "## Random Forest"
   ]
  },
  {
   "cell_type": "markdown",
   "id": "d5ac7c7c",
   "metadata": {},
   "source": [
    "Selanjutnya mari kita gunakan Random Forest, Kombinasi dari beberapa pohon keputusan (ensemble learning)."
   ]
  },
  {
   "cell_type": "code",
   "execution_count": 50,
   "id": "c2063bb1",
   "metadata": {},
   "outputs": [
    {
     "name": "stdout",
     "output_type": "stream",
     "text": [
      "Akurasi: 94.56%\n"
     ]
    }
   ],
   "source": [
    "model = RandomForestClassifier()\n",
    "\n",
    "# Melatih model dengan data latih\n",
    "model.fit(X_train_encoded, y_train_bad)\n",
    "\n",
    "# Melakukan prediksi pada data uji\n",
    "y_pred = model.predict(X_test_encoded)\n",
    "\n",
    "# Menghitung akurasi\n",
    "accuracy = accuracy_score(y_test_bad, y_pred)\n",
    "print(\"Akurasi: {:.2f}%\".format(accuracy * 100))"
   ]
  },
  {
   "cell_type": "code",
   "execution_count": 51,
   "id": "1d916c31",
   "metadata": {},
   "outputs": [
    {
     "name": "stdout",
     "output_type": "stream",
     "text": [
      "Confusion Matrix:\n",
      "[[3600   68]\n",
      " [ 156  295]]\n"
     ]
    }
   ],
   "source": [
    "cm = confusion_matrix(y_test_bad, y_pred)\n",
    "print(\"Confusion Matrix:\")\n",
    "print(cm)"
   ]
  },
  {
   "cell_type": "code",
   "execution_count": 52,
   "id": "cb3e8235",
   "metadata": {},
   "outputs": [
    {
     "name": "stdout",
     "output_type": "stream",
     "text": [
      "Confusion Matrix:\n",
      "[[3600   68]\n",
      " [ 156  295]]\n",
      "Accuracy: 94.56%\n",
      "Precision: 95.85%\n",
      "Recall: 98.15%\n",
      "F1-score: 96.98%\n"
     ]
    }
   ],
   "source": [
    "accuracy = accuracy_score(y_test_bad, y_pred)\n",
    "precision = precision_score(y_test_bad, y_pred, pos_label='no')\n",
    "recall = recall_score(y_test_bad, y_pred, pos_label='no')\n",
    "f1 = f1_score(y_test_bad, y_pred, pos_label='no')\n",
    "\n",
    "# Menampilkan hasil metrik evaluasi\n",
    "print(\"Confusion Matrix:\")\n",
    "print(cm)\n",
    "print(\"Accuracy: {:.2f}%\".format(accuracy * 100))\n",
    "print(\"Precision: {:.2f}%\".format(precision * 100))\n",
    "print(\"Recall: {:.2f}%\".format(recall * 100))\n",
    "print(\"F1-score: {:.2f}%\".format(f1 * 100))"
   ]
  },
  {
   "cell_type": "markdown",
   "id": "617a0b59",
   "metadata": {},
   "source": [
    "Dari hasil confusion matrix yang diperoleh dengan menggunakan logistic regression, dapat diinterpretasikan sebagai berikut:\n",
    "\n",
    "* True Positive (TP): Terdapat 290 data yang diprediksi sebagai positif dan memang benar-benar positif.\n",
    "* True Negative (TN): Terdapat 3616 data yang diprediksi sebagai negatif dan memang benar-benar negatif.\n",
    "* False Positive (FP): Terdapat 161 data yang diprediksi sebagai positif, tetapi sebenarnya negatif (kesalahan prediksi positif palsu).\n",
    "* False Negative (FN): Terdapat 52 data yang diprediksi sebagai negatif, tetapi sebenarnya positif (kesalahan prediksi negatif palsu)."
   ]
  },
  {
   "cell_type": "code",
   "execution_count": 53,
   "id": "6a84aa1c",
   "metadata": {},
   "outputs": [
    {
     "name": "stdout",
     "output_type": "stream",
     "text": [
      "Akurasi: 100.00%\n"
     ]
    }
   ],
   "source": [
    "model = RandomForestClassifier()\n",
    "\n",
    "# Melatih model dengan data latih\n",
    "model.fit(X_train_bf, y_train_bf)\n",
    "\n",
    "# Melakukan prediksi pada data uji\n",
    "y_pred = model.predict(X_test_bf)\n",
    "\n",
    "# Menghitung akurasi\n",
    "accuracy = accuracy_score(y_test_bf, y_pred)\n",
    "print(\"Akurasi: {:.2f}%\".format(accuracy * 100))"
   ]
  },
  {
   "cell_type": "code",
   "execution_count": 54,
   "id": "b52a009c",
   "metadata": {},
   "outputs": [
    {
     "name": "stdout",
     "output_type": "stream",
     "text": [
      "Confusion Matrix:\n",
      "[[4000    0]\n",
      " [   0  521]]\n"
     ]
    }
   ],
   "source": [
    "cm = confusion_matrix(y_test_bf, y_pred)\n",
    "print(\"Confusion Matrix:\")\n",
    "print(cm)"
   ]
  },
  {
   "cell_type": "code",
   "execution_count": 55,
   "id": "755def34",
   "metadata": {},
   "outputs": [
    {
     "name": "stdout",
     "output_type": "stream",
     "text": [
      "Confusion Matrix:\n",
      "[[4000    0]\n",
      " [   0  521]]\n",
      "Accuracy: 100.00%\n",
      "Precision: 100.00%\n",
      "Recall: 100.00%\n",
      "F1-score: 100.00%\n"
     ]
    }
   ],
   "source": [
    "accuracy = accuracy_score(y_test_bf, y_pred)\n",
    "precision = precision_score(y_test_bf, y_pred, pos_label='no')\n",
    "recall = recall_score(y_test_bf, y_pred, pos_label='no')\n",
    "f1 = f1_score(y_test_bf, y_pred, pos_label='no')\n",
    "\n",
    "# Menampilkan hasil metrik evaluasi\n",
    "print(\"Confusion Matrix:\")\n",
    "print(cm)\n",
    "print(\"Accuracy: {:.2f}%\".format(accuracy * 100))\n",
    "print(\"Precision: {:.2f}%\".format(precision * 100))\n",
    "print(\"Recall: {:.2f}%\".format(recall * 100))\n",
    "print(\"F1-score: {:.2f}%\".format(f1 * 100))"
   ]
  },
  {
   "cell_type": "markdown",
   "id": "15a10761",
   "metadata": {},
   "source": [
    "Dari hasil confusion matrix yang diperoleh dengan menggunakan logistic regression, dapat diinterpretasikan sebagai berikut:\n",
    "\n",
    "* True Positive (TP): Terdapat 521 data yang diprediksi sebagai positif dan memang benar-benar positif.\n",
    "* True Negative (TN): Terdapat 4000 data yang diprediksi sebagai negatif dan memang benar-benar negatif.\n",
    "* False Positive (FP): Terdapat 0 data yang diprediksi sebagai positif, tetapi sebenarnya negatif (kesalahan prediksi positif palsu).\n",
    "* False Negative (FN): Terdapat 0 data yang diprediksi sebagai negatif, tetapi sebenarnya positif (kesalahan prediksi negatif palsu)."
   ]
  },
  {
   "cell_type": "markdown",
   "id": "2bf15d45",
   "metadata": {},
   "source": [
    "## Naive Bayes"
   ]
  },
  {
   "cell_type": "markdown",
   "id": "836e9147",
   "metadata": {},
   "source": [
    "Terakhir kita Naive Bayes, hal ini menggunakan teorema Bayes dengan asumsi bahwa fitur-fitur independen secara bersyarat terhadap kelas target."
   ]
  },
  {
   "cell_type": "code",
   "execution_count": 56,
   "id": "0860c128",
   "metadata": {},
   "outputs": [
    {
     "name": "stdout",
     "output_type": "stream",
     "text": [
      "Akurasi: 84.58%\n"
     ]
    }
   ],
   "source": [
    "model = GaussianNB()\n",
    "#Melatih model dengan data latih\n",
    "model.fit(X_train_bf, y_train_bf)\n",
    "\n",
    "# Melakukan prediksi pada data uji\n",
    "y_pred = model.predict(X_test_bf)\n",
    "\n",
    "# Menghitung akurasi\n",
    "accuracy = accuracy_score(y_test_bf, y_pred)\n",
    "print(\"Akurasi: {:.2f}%\".format(accuracy * 100))"
   ]
  },
  {
   "cell_type": "code",
   "execution_count": 57,
   "id": "772fcb41",
   "metadata": {},
   "outputs": [
    {
     "name": "stdout",
     "output_type": "stream",
     "text": [
      "Confusion Matrix:\n",
      "[[3560  440]\n",
      " [ 257  264]]\n"
     ]
    }
   ],
   "source": [
    "cm = confusion_matrix(y_test_bf, y_pred)\n",
    "print(\"Confusion Matrix:\")\n",
    "print(cm)"
   ]
  },
  {
   "cell_type": "code",
   "execution_count": 58,
   "id": "64fa822f",
   "metadata": {},
   "outputs": [
    {
     "name": "stdout",
     "output_type": "stream",
     "text": [
      "Confusion Matrix:\n",
      "[[3560  440]\n",
      " [ 257  264]]\n",
      "Accuracy: 84.58%\n",
      "Precision: 93.27%\n",
      "Recall: 89.00%\n",
      "F1-score: 91.08%\n"
     ]
    }
   ],
   "source": [
    "accuracy = accuracy_score(y_test_bf, y_pred)\n",
    "precision = precision_score(y_test_bf, y_pred, pos_label='no')\n",
    "recall = recall_score(y_test_bf, y_pred, pos_label='no')\n",
    "f1 = f1_score(y_test_bf, y_pred, pos_label='no')\n",
    "\n",
    "# Menampilkan hasil metrik evaluasi\n",
    "print(\"Confusion Matrix:\")\n",
    "print(cm)\n",
    "print(\"Accuracy: {:.2f}%\".format(accuracy * 100))\n",
    "print(\"Precision: {:.2f}%\".format(precision * 100))\n",
    "print(\"Recall: {:.2f}%\".format(recall * 100))\n",
    "print(\"F1-score: {:.2f}%\".format(f1 * 100))"
   ]
  },
  {
   "cell_type": "markdown",
   "id": "f6958bda",
   "metadata": {},
   "source": [
    "Dari hasil confusion matrix yang diperoleh dengan menggunakan Naive Bayes, dapat diinterpretasikan sebagai berikut:\n",
    "\n",
    "* True Positive (TP): Terdapat 264 data yang diprediksi sebagai positif dan memang benar-benar positif.\n",
    "* True Negative (TN): Terdapat 3560 data yang diprediksi sebagai negatif dan memang benar-benar negatif.\n",
    "* False Positive (FP): Terdapat 257 data yang diprediksi sebagai positif, tetapi sebenarnya negatif (kesalahan prediksi positif palsu).\n",
    "* False Negative (FN): Terdapat 440 data yang diprediksi sebagai negatif, tetapi sebenarnya positif (kesalahan prediksi negatif palsu)."
   ]
  },
  {
   "cell_type": "code",
   "execution_count": 59,
   "id": "2f6f387c",
   "metadata": {},
   "outputs": [
    {
     "name": "stdout",
     "output_type": "stream",
     "text": [
      "Akurasi: 75.41%\n"
     ]
    }
   ],
   "source": [
    "model = GaussianNB()\n",
    "# Melatih model dengan data latih\n",
    "model.fit(X_train_encoded, y_train_bad)\n",
    "\n",
    "# Melakukan prediksi pada data uji\n",
    "y_pred = model.predict(X_test_encoded)\n",
    "\n",
    "# Menghitung akurasi\n",
    "accuracy = accuracy_score(y_test_bad, y_pred)\n",
    "print(\"Akurasi: {:.2f}%\".format(accuracy * 100))"
   ]
  },
  {
   "cell_type": "code",
   "execution_count": 60,
   "id": "e3128a58",
   "metadata": {},
   "outputs": [
    {
     "name": "stdout",
     "output_type": "stream",
     "text": [
      "Confusion Matrix:\n",
      "[[2783  885]\n",
      " [ 128  323]]\n"
     ]
    }
   ],
   "source": [
    "cm = confusion_matrix(y_test_bad, y_pred)\n",
    "print(\"Confusion Matrix:\")\n",
    "print(cm)"
   ]
  },
  {
   "cell_type": "code",
   "execution_count": 61,
   "id": "3a9cfdf0",
   "metadata": {},
   "outputs": [
    {
     "name": "stdout",
     "output_type": "stream",
     "text": [
      "Confusion Matrix:\n",
      "[[2783  885]\n",
      " [ 128  323]]\n",
      "Accuracy: 75.41%\n",
      "Precision: 95.60%\n",
      "Recall: 75.87%\n",
      "F1-score: 84.60%\n"
     ]
    }
   ],
   "source": [
    "accuracy = accuracy_score(y_test_bad, y_pred)\n",
    "precision = precision_score(y_test_bad, y_pred, pos_label='no')\n",
    "recall = recall_score(y_test_bad, y_pred, pos_label='no')\n",
    "f1 = f1_score(y_test_bad, y_pred, pos_label='no')\n",
    "\n",
    "# Menampilkan hasil metrik evaluasi\n",
    "print(\"Confusion Matrix:\")\n",
    "print(cm)\n",
    "print(\"Accuracy: {:.2f}%\".format(accuracy * 100))\n",
    "print(\"Precision: {:.2f}%\".format(precision * 100))\n",
    "print(\"Recall: {:.2f}%\".format(recall * 100))\n",
    "print(\"F1-score: {:.2f}%\".format(f1 * 100))"
   ]
  },
  {
   "cell_type": "markdown",
   "id": "c49fee5a",
   "metadata": {},
   "source": [
    "Dari hasil confusion matrix yang diperoleh dengan menggunakan Naive Bayes, dapat diinterpretasikan sebagai berikut:\n",
    "\n",
    "* True Positive (TP): Terdapat 323 data yang diprediksi sebagai positif dan memang benar-benar positif.\n",
    "* True Negative (TN): Terdapat 2783 data yang diprediksi sebagai negatif dan memang benar-benar negatif.\n",
    "* False Positive (FP): Terdapat 128 data yang diprediksi sebagai positif, tetapi sebenarnya negatif (kesalahan prediksi positif palsu).\n",
    "* False Negative (FN): Terdapat 885 data yang diprediksi sebagai negatif, tetapi sebenarnya positif (kesalahan prediksi negatif palsu)."
   ]
  },
  {
   "cell_type": "markdown",
   "id": "ec825c77",
   "metadata": {},
   "source": [
    "## Kesimpulan"
   ]
  },
  {
   "cell_type": "markdown",
   "id": "b6cd859f",
   "metadata": {},
   "source": [
    "Kesimpulan\n",
    "\n",
    "Untuk Bank Additional Full \n",
    "1. Proporsi Orang yang memiliki kredit macet\n",
    "Orang yang tidak mengalami kredit macet ada sekitar 79%\n",
    "Orang yang tidak tahu bahwa kredit macet sekitar 20%\n",
    "Orang yang mengalami kredit macet 0.0073% yang mengalami kredit macet\n",
    "2.  Mayoritas orang masih memiliki pinjaman perumahan\n",
    "3. Sedangkan untuk pinjaman pribadi banyak yang tidak memilikinya\n",
    "4. Distribusi Kelas Output target, tidak terlalu seimbang\n",
    "5. Modeling \n",
    "\n",
    "Logistic Regression\n",
    "\n",
    "1. Accuracy: 91.31%\n",
    "2. Precision: 92.85%\n",
    "3. Recall: 97.76%\n",
    "4. F1-score: 95.25%\n",
    "\n",
    "KNN\n",
    "1. Accuracy: 85.72%\n",
    "2. Precision: 94.38%\n",
    "3. Recall: 89.29%\n",
    "4. F1-score: 91.76%\n",
    "\n",
    "SVM\n",
    "1. Accuracy: 91.11%\n",
    "2. Precision: 92.91%\n",
    "3. Recall: 97.46%\n",
    "4. F1-score: 95.13%\n",
    "\n",
    "Decision Tree\n",
    "1. Accuracy: 89.17%\n",
    "2. Precision: 95.30%\n",
    "3. Recall: 92.39%\n",
    "4. F1-score: 93.83%\n",
    "\n",
    "Random Forest\n",
    "1. Accuracy: 94.39%\n",
    "2. Precision: 95.86%\n",
    "3. Recall: 97.93%\n",
    "4. F1-score: 96.88%\n",
    "\n",
    "Naive Bayes\n",
    "1. Accuracy: 75.41%\n",
    "2. Precision: 95.60%\n",
    "3. Recall: 75.87%\n",
    "4. F1-score: 84.60%\n",
    "\n",
    "\n",
    "Untuk Bank Full \n",
    "1. Berikut Proporsi yang mengalami kredit macet \n",
    "Orang yang tidak mengalami kredit macet ada sekitar 98%\n",
    "Orang yang mengalami kredit macet 2% yang mengalami kredit macet\n",
    "2.  Mayoritas orang masih memiliki pinjaman perumahan\n",
    "3. Sedangkan untuk pinjaman pribadi banyak yang tidak memilikinya\n",
    "4. Distribusi Kelas Output target, tidak terlalu seimbang\n",
    "5. Modelling\n",
    "\n",
    "Logistic Regression\n",
    "1. Accuracy: 88.98%\n",
    "2. Precision: 90.33%\n",
    "3. Recall: 98.05%\n",
    "4. F1-score: 94.03%\n",
    "\n",
    "KNN\n",
    "1. Accuracy: 91.24%\n",
    "2. Precision: 92.97%\n",
    "3. Recall: 97.47%\n",
    "4. F1-score: 95.17%\n",
    "\n",
    "SVM\n",
    "1. Accuracy: 88.52%\n",
    "2. Precision: 88.55%\n",
    "3. Recall: 99.95%\n",
    "4. F1-score: 93.90%\n",
    "\n",
    "Decision Tree\n",
    "1. Accuracy: 100.00%\n",
    "2. Precision: 100.00%\n",
    "3. Recall: 100.00%\n",
    "4. F1-score: 100.00%\n",
    "\n",
    "Random Forest\n",
    "1. Accuracy: 100.00%\n",
    "2. Precision: 100.00%\n",
    "3. Recall: 100.00%\n",
    "4. F1-score: 100.00%\n",
    "\n",
    "Naive Bayes\n",
    "1. Accuracy: 84.58%\n",
    "2. Precision: 93.27%\n",
    "3. Recall: 89.00%\n",
    "4. F1-score: 91.08%\n",
    "\n",
    "\n",
    "Untuk Akurasi tentunya Random Forest adalah model terbaik dikarenakan akurasi yang tinggi dibanding yang lain, untuk menjawab hal ini saya memilih Presisi karena presisi mengukur sejauh mana model dapat memprediksi dengan benar bahwa seorang klien akan berlangganan deposito jangka. Presisi yang tinggi berarti bahwa sebagian besar prediksi positif yang dilakukan oleh model adalah benar.\n",
    "\n",
    "Hal ini penting bagi bank karena mereka ingin mengoptimalkan upaya pemasaran dan kampanye untuk menarik nasabah yang berpotensi berlangganan deposito jangka. Dengan presisi yang tinggi, bank dapat lebih yakin bahwa upaya mereka akan mencapai target yang diinginkan dan tidak membuang-buang sumber daya untuk menargetkan nasabah yang tidak tertarik atau tidak memenuhi syarat."
   ]
  }
 ],
 "metadata": {
  "kernelspec": {
   "display_name": "kmhacktiv8",
   "language": "python",
   "name": "kmhacktiv8"
  },
  "language_info": {
   "codemirror_mode": {
    "name": "ipython",
    "version": 3
   },
   "file_extension": ".py",
   "mimetype": "text/x-python",
   "name": "python",
   "nbconvert_exporter": "python",
   "pygments_lexer": "ipython3",
   "version": "3.10.10"
  }
 },
 "nbformat": 4,
 "nbformat_minor": 5
}
